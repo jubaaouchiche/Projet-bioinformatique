{
 "cells": [
  {
   "cell_type": "markdown",
   "metadata": {
    "id": "lRIv7xNV0nf9"
   },
   "source": [
    "# TME 7 : Projet Detection de motifs\n",
    "\n",
    "\n",
    "## Recheche de pattern (motifs) en utilisant les suffix trees\n",
    "\n",
    "Nous allons utiliser l'algorithme suffix-tree pour la recherche rapide et éfficace de motifs. Un suffix-tree est construit à partir d'un jeux de séquences, ensuite nous pouvons rechercher le motif en temps O(k) où k est la longueur du motif."
   ]
  },
  {
   "cell_type": "markdown",
   "metadata": {
    "id": "p2zEyqSq0nf_"
   },
   "source": [
    "1\\. Nous allons réutiliser les fonctions du TME6 pour générer ``t`` séquences artificielles de taille ``n``, et implanter dans chaque séquence un motif de taille ``k`` à des positions aléatoires avec ``v`` substitutions choisies aléatoirement. Cependant, les ``t`` séquences artificielles initiales (sans implantation) ainsi que le motif initial (sans variation/mutation) doivent être générées une seule fois. Ensuite, selon chaque question, nous introduisons des différentes variation au motif initial et les implantons dans les séquences afin de générer des nouveau jeux de données. "
   ]
  },
  {
   "cell_type": "code",
   "execution_count": 1,
   "metadata": {
    "id": "VagWKovI0ngA"
   },
   "outputs": [
    {
     "ename": "ModuleNotFoundError",
     "evalue": "No module named 'numpy'",
     "output_type": "error",
     "traceback": [
      "\u001b[0;31m---------------------------------------------------------------------------\u001b[0m",
      "\u001b[0;31mModuleNotFoundError\u001b[0m                       Traceback (most recent call last)",
      "\u001b[0;32m/tmp/ipykernel_17676/2488887121.py\u001b[0m in \u001b[0;36m<module>\u001b[0;34m\u001b[0m\n\u001b[1;32m      1\u001b[0m \u001b[0;32mimport\u001b[0m \u001b[0mrandom\u001b[0m\u001b[0;34m\u001b[0m\u001b[0;34m\u001b[0m\u001b[0m\n\u001b[0;32m----> 2\u001b[0;31m \u001b[0;32mimport\u001b[0m \u001b[0mnumpy\u001b[0m \u001b[0;32mas\u001b[0m \u001b[0mnp\u001b[0m\u001b[0;34m\u001b[0m\u001b[0;34m\u001b[0m\u001b[0m\n\u001b[0m\u001b[1;32m      3\u001b[0m \u001b[0;34m\u001b[0m\u001b[0m\n\u001b[1;32m      4\u001b[0m \u001b[0mnuc\u001b[0m \u001b[0;34m=\u001b[0m \u001b[0;34m(\u001b[0m\u001b[0;34m'A'\u001b[0m\u001b[0;34m,\u001b[0m \u001b[0;34m'C'\u001b[0m\u001b[0;34m,\u001b[0m \u001b[0;34m'G'\u001b[0m\u001b[0;34m,\u001b[0m \u001b[0;34m'T'\u001b[0m\u001b[0;34m)\u001b[0m\u001b[0;34m\u001b[0m\u001b[0;34m\u001b[0m\u001b[0m\n\u001b[1;32m      5\u001b[0m \u001b[0;34m\u001b[0m\u001b[0m\n",
      "\u001b[0;31mModuleNotFoundError\u001b[0m: No module named 'numpy'"
     ]
    }
   ],
   "source": [
    "import random\n",
    "import numpy as np\n",
    "\n",
    "nuc = ('A', 'C', 'G', 'T')\n",
    "\n",
    "k=8 #taille de motif\n",
    "v=0 #nb de positions variables dans le motif\n",
    "t=5 #nb de sequences\n",
    "n=100 #longuer des sequence\n"
   ]
  },
  {
   "cell_type": "markdown",
   "metadata": {
    "id": "N39jNZyt0ngC"
   },
   "source": [
    "1.1\\. Generer les séquences artificielles initiales et implanter un motif (sans variation, v=0)"
   ]
  },
  {
   "cell_type": "code",
   "execution_count": 2,
   "metadata": {
    "id": "3Vgz0SW71WtP"
   },
   "outputs": [
    {
     "name": "stdout",
     "output_type": "stream",
     "text": [
      "['GATTTCCTCGGTAGTCCTCTATTGAAGATACTGGCGGAGTTTCACGAACCAACCCCCTCAACGCTGCGTTTGCGGACACGAATACCGCCACA', 'CGGAAGGTTTAACAGCGACCAGAGGAAAGCTAGCTTAGCCTTCCCTTTCCCCGTTCGCGTCGCTCCAGTATTGAATCAGACTATGAGTTTGA', 'AGGTCTAACTTTAAGCAGATGGGGGAGTTCTGCGAGTGCTTTCCACGCCTCAATTGCTTCCATTTCAATTACAATAGACGACTTCGATCCCT', 'AAGCTGCAGCGCCGCATCATGTGTCATTCCGTTATTCTGGTGGAGGCATCCGCCGCATATAACGGTCGATGAGCCGCTTAACACTCGTTTAG', 'TTATCTAAAATTTTGCAAACAAGCCGTATGTATGAATGTCAAAACTACTCCAACCTAGCCTACCCTGAAGCCGTAAAGTCAATTTCACGCTG']\n",
      "['GATTTCCTCGGTAGTGAATGAGTCCTCTATTGAAGATACTGGCGGAGTTTCACGAACCAACCCCCTCAACGCTGCGTTTGCGGACACGAATACCGCCACA', 'CGGAAGGTTTAACAGCGACCAGGTGAATGAAGGAAAGCTAGCTTAGCCTTCCCTTTCCCCGTTCGCGTCGCTCCAGTATTGAATCAGACTATGAGTTTGA', 'AGGTCTAACTTTAAGCAGATGGGGGAGTTCTGCGAGTGCTTTCCACGCCTCAATTGCTTCCATTTCAATTACAATAGACGACGTGAATGATTCGATCCCT', 'AAGCTGCAGCGCCGCATCATGTGTCATTCCGTTATTCTGGTGGAGGCATCCGCCGCATATAACGGTCGATGAGCCGCTTAACACTCGTGTGAATGATTAG', 'TTATCTAAAATTTTGCAAACAAGCCGTATGTATGTGAATGAGAATGTCAAAACTACTCCAACCTAGCCTACCCTGAAGCCGTAAAGTCAATTTCACGCTG']\n",
      "GTGAATGA\n"
     ]
    }
   ],
   "source": [
    "k=8 #taille de motif\n",
    "v=0 #nb de positions variables dans le motif\n",
    "t=5 #nb de sequences\n",
    "n=100 #longuer des sequence\n",
    "\n",
    "def generateRandomSequence(n, upper=True):\n",
    "    \"\"\"\n",
    "    Génère une séquence nucléotidique aléatoire \n",
    "    entrée n : longueur de la sequence\n",
    "    entrée upper : bool, si True les nucléotides seront en majuscule, False minuscule\n",
    "    sortie sequence : une séquence nucléotidique aléatoire \n",
    "    \"\"\"\n",
    "    nucList = [nuc[random.randint(0,3)].upper() if upper else nuc[random.randint(0,3)].lower() for i in range(n)]\n",
    "    sequence = \"\".join(nucList)\n",
    "    return sequence\n",
    "\n",
    "def modifierMotif(motif, nbpos,  upper=True):\n",
    "    \"\"\"\n",
    "    Modifie nbpos positions d'un motif aléatoirement \n",
    "    entrée motif: motif à modifier\n",
    "    entrée nbpos: nombre de positions\n",
    "    entrée upper : bool, si True les nucléotides modifiés seront majuscule, False minuscule\n",
    "    sortie motifM: motif modifié\n",
    "    \"\"\"\n",
    "    motifM = motif\n",
    "    posToModified = random.sample(range(len(motif)), nbpos)\n",
    "    for pos in posToModified:\n",
    "        newNuc = random.choice(nuc)\n",
    "        while newNuc == motif[pos]:\n",
    "            newNuc = random.choice(nuc)\n",
    "        motifM = motifM[0:pos] + newNuc + motifM[pos+1:]\n",
    "    return motifM\n",
    "\n",
    "\n",
    "def implantMotif(sequences, motif, k, v, t, n):\n",
    "    \"\"\"\n",
    "    Génère des séquences aléatoires et implante des motifs (un motif par séquence)\n",
    "    entrée sequences: matrice de (n-k)*t initiale\n",
    "    entrée motif: motif sans variation à implémenter\n",
    "    entrée k: taille du motif\n",
    "    entrée v: nombre de variations (si v==0 implante un motif sans variations)\n",
    "    entrée t : nombre de séquences \n",
    "    entrée n : longueur des séquences\n",
    "    sortie DNAOrig : matrice de dimension t x n-k avec les sequences aléatoires\n",
    "    sortie DNAMot: matrice de dimension t x n avec les sequences aléatoires et les motifs implantés\n",
    "    sortie motifFix: motif sans variations\n",
    "    REMARQUE : La taille totale des séquences plus motif doit être égal à n, pensez à générer de séquence aléatoire de taille n-k pour pouvoir implanter un motif de taille k\n",
    "    Cette fonction permet de soit générer les séquences et le motif, soit juste implanter de motif (avec ou sans variations) à des séquences et motif existantes (passé en paramètre)\n",
    "    \"\"\"\n",
    "    # DNAOrig = []\n",
    "    # DNAMot = []\n",
    "    if(sequences):\n",
    "        DNAOrig = sequences[:]\n",
    "    else:\n",
    "        DNAOrig = [generateRandomSequence(n-k) for i in range(t)]\n",
    "    if(len(motif) == 0):\n",
    "        motif = generateRandomSequence(k)\n",
    "    modifiedMotifs = [modifierMotif(motif, v) for i in range(t)]\n",
    "    posToInsert = [random.randint(0, n-k) for i in range(t)]\n",
    "    DNAMot = [DNAOrig[i][:posToInsert[i]] + modifiedMotifs[i] + DNAOrig[i][posToInsert[i]:] for i in range(t)]\n",
    "    # print(posToInsert)\n",
    "    return DNAOrig, DNAMot, motif\n",
    "\n",
    "fix_motif = 'GTGAATGA'\n",
    "# fix_motif = ''\n",
    "adnOri = ['GATTTCCTCGGTAGTCCTCTATTGAAGATACTGGCGGAGTTTCACGAACCAACCCCCTCAACGCTGCGTTTGCGGACACGAATACCGCCACA', 'CGGAAGGTTTAACAGCGACCAGAGGAAAGCTAGCTTAGCCTTCCCTTTCCCCGTTCGCGTCGCTCCAGTATTGAATCAGACTATGAGTTTGA', 'AGGTCTAACTTTAAGCAGATGGGGGAGTTCTGCGAGTGCTTTCCACGCCTCAATTGCTTCCATTTCAATTACAATAGACGACTTCGATCCCT', 'AAGCTGCAGCGCCGCATCATGTGTCATTCCGTTATTCTGGTGGAGGCATCCGCCGCATATAACGGTCGATGAGCCGCTTAACACTCGTTTAG', 'TTATCTAAAATTTTGCAAACAAGCCGTATGTATGAATGTCAAAACTACTCCAACCTAGCCTACCCTGAAGCCGTAAAGTCAATTTCACGCTG']\n",
    "# adnOri = None\n",
    "adnOri, adn, fix_motif = implantMotif(adnOri, fix_motif, k, 0, t, n) #générer les séquences et le motif sans variation\n",
    "print (adnOri)\n",
    "# print (adn)\n",
    "\n",
    "\n",
    "adn  = [s.upper() for s in adn]\n",
    "print (adn)\n",
    "print (fix_motif)"
   ]
  },
  {
   "cell_type": "markdown",
   "metadata": {
    "id": "u27bZ9zV0ngE"
   },
   "source": [
    "2\\. Définissez une fonction ``construct_tree`` pour construire un suffix tree à partir des séquences artificielles (après implantation) en utilisant le python package suffix-trees trouvable ici: https://pypi.org/project/suffix-trees/. Tester si votre fonction est capable de trouver le motif sans variation implanté."
   ]
  },
  {
   "cell_type": "code",
   "execution_count": 3,
   "metadata": {
    "id": "sDeaGF8V11ew"
   },
   "outputs": [
    {
     "name": "stdout",
     "output_type": "stream",
     "text": [
      "Defaulting to user installation because normal site-packages is not writeable\n",
      "Requirement already satisfied: suffix-trees in /users/nfs/Etu9/3603679/.local/lib/python3.7/site-packages (0.3.0)\n",
      "\u001b[33mWARNING: You are using pip version 21.3; however, version 22.0.4 is available.\n",
      "You should consider upgrading via the '/usr/bin/python3.7 -m pip install --upgrade pip' command.\u001b[0m\n"
     ]
    }
   ],
   "source": [
    "!pip install suffix-trees"
   ]
  },
  {
   "cell_type": "code",
   "execution_count": 7,
   "metadata": {
    "id": "BDYzYIcY0ngF"
   },
   "outputs": [
    {
     "name": "stdout",
     "output_type": "stream",
     "text": [
      "{391, 13, 437, 123, 284}\n"
     ]
    }
   ],
   "source": [
    "from suffix_trees import STree\n",
    "\n",
    "#st = STree.STree(\"abcdefghab\")\n",
    "#print(st.find(\"abc\")) # 0\n",
    "#print(st.find_all(\"ab\")) # [0, 8]\n",
    "\n",
    "def construct_tree(sequences):\n",
    "    \"\"\"\n",
    "    construire un abre de suffixe\n",
    "    entrée1 sequences : matrice de dimension txn avec les sequences\n",
    "    sortie1 st : arbre de suffixe\n",
    "    REMARK: Vous devez concatener toutes les sequences de la matrice avant d'appeller la fonction STree\n",
    "    \"\"\"\n",
    "    return STree.STree(sequences)\n",
    "\n",
    "tree = construct_tree(adn)\n",
    "print(tree.find_all(fix_motif))"
   ]
  },
  {
   "cell_type": "markdown",
   "metadata": {
    "id": "rdSlwIl00ngH"
   },
   "source": [
    "3\\. Avant de chercher les motifs, implémentez ou reutilisez les fonctions pour générer tous les motifs (k-mer) possibles de taille k, en éliminant les motifs peu complexe pour éviter les calculs inutiles."
   ]
  },
  {
   "cell_type": "code",
   "execution_count": 10,
   "metadata": {
    "id": "3uxo3Y6j0ngI"
   },
   "outputs": [
    {
     "name": "stdout",
     "output_type": "stream",
     "text": [
      "65536\n",
      "45672\n"
     ]
    }
   ],
   "source": [
    "nuc = ('A', 'C', 'G', 'T')               \n",
    "from itertools import product\n",
    "\n",
    "def kmerList(allKmers):\n",
    "    return [\"\".join(nucTuple) for nucTuple in allKmers]\n",
    "\n",
    "def isCountN(seq, repeatMax = 5):\n",
    "    repeatDict = {nu: 0 for nu in nuc}\n",
    "    for nu in seq:\n",
    "        repeatDict[nu] += 1\n",
    "        if repeatDict[nu] >= repeatMax:\n",
    "            return True\n",
    "    return False\n",
    "\n",
    "def isRepeatN(seq, repeatMax = 4):\n",
    "    repeats = {nu*repeatMax for nu in nuc}\n",
    "    for rep in repeats:\n",
    "        if seq.find(rep) != -1:\n",
    "            return True\n",
    "    return False\n",
    "\n",
    "def checkRepeat2(seq, repeat2Max = 5):\n",
    "    repeat2s = {(n1+n2)*(repeat2Max//2)+n1*(repeat2Max % 2) for n1 in nuc for n2 in nuc if n1!=n2}\n",
    "    for repeat2 in repeat2s:\n",
    "        if seq.find(repeat2) != -1:\n",
    "            return True\n",
    "    return False\n",
    "\n",
    "def nucLessThanNb(seq, nb = 3):\n",
    "    return len({nuc for nuc in seq}) < nb\n",
    "\n",
    "def removeLowComplexe(kmers):\n",
    "    return [kmer for kmer in kmers if not checkRepeat2(kmer, 4) and not isRepeatN(kmer) and not isCountN(kmer) and not nucLessThanNb(kmer)]\n",
    "\n",
    "#Genere tous les K-mers de taille K ayant de AAA... à TTT...\n",
    "allkmers = product(nuc, repeat=k)\n",
    "kmers = kmerList(allkmers)\n",
    "\n",
    "#Enlever les motifs peu complexe\n",
    "print (len(kmers))\n",
    "kmersValid = removeLowComplexe(kmers)\n",
    "print (len(kmersValid))\n",
    "# # print(kmersValid)\n",
    "\n"
   ]
  },
  {
   "cell_type": "markdown",
   "metadata": {
    "id": "AhKHuWkE0ngK"
   },
   "source": [
    "4\\. **Exact matching:** Définissez la fonction ``exact_match`` qui cherche dans le suffix tree tous les motifs possibles (k-mers), générés à la question precedent. La fonction renvoie un dictionnaire qui contient les motifs (clés) et leurs nombre d'occurrence (valeurs). Ce dictionnaire doit être trié par nombre d'occurrences. \n",
    "\n",
    "Ensuite, trouvez et affichez les 10 motifs plus fréquents dans notre jeux de données artificiels."
   ]
  },
  {
   "cell_type": "code",
   "execution_count": 11,
   "metadata": {
    "id": "pUmfblsq0ngL"
   },
   "outputs": [
    {
     "name": "stdout",
     "output_type": "stream",
     "text": [
      "334\n",
      "[('GTGAATGA', 5), ('AAGCCGTA', 2), ('CGCCGCAT', 2), ('GAATGATT', 2), ('TGAATGAG', 2), ('TGAATGAT', 2), ('AAACTACT', 1), ('AAAGCTAG', 1), ('AACAAGCC', 1), ('AACAGCGA', 1)]\n",
      "True\n"
     ]
    }
   ],
   "source": [
    "def exact_match(kmersV: list, stree: STree):\n",
    "    \"\"\"\n",
    "    Cherche dans le suffix tree tous les motifs possibles\n",
    "    entrée1 kmersV: Liste de Kmers à chercher\n",
    "    entrée2 stree: suffix tree\n",
    "    sortie1 motif_occur_sorted: dictionnaire qui contient les motifs (clés) et leurs nombre d'occurrences (values).\n",
    "    \"\"\"\n",
    "    return {kmer:len(stree.find_all(kmer)) for kmer in kmersV if len(stree.find_all(kmer)) > 0}\n",
    "\n",
    "def sortDictMotifToList(motifDict : dict, reverse = True) -> list:\n",
    "    return sorted(motifDict.items(), key=lambda item:item[1], reverse=reverse)\n",
    "\n",
    "st = construct_tree(adn)\n",
    "motif_occur = exact_match(kmersValid, st)\n",
    "print(len(motif_occur))\n",
    "\n",
    "sortedMotifsTrouves = sortDictMotifToList(motif_occur)[:10]\n",
    "print(sortedMotifsTrouves[:10])\n",
    "print(fix_motif == sortedMotifsTrouves[0][0])\n"
   ]
  },
  {
   "cell_type": "markdown",
   "metadata": {
    "id": "GqpsNfaA0ngM"
   },
   "source": [
    "5\\. Avez-vous réussi à trouver votre motif initial implanté en séquences? l'algorithme était-il rapide? Faites attention aux valeurs élevées des variable k, t, et n par rapport aux TMEs précedants. Quelle est la complexité de chaque recherche de motif? "
   ]
  },
  {
   "cell_type": "markdown",
   "metadata": {
    "id": "cTWCNaA9jLFG"
   },
   "source": [
    "reponse:Oui, nous avons trouvé le motif initial implanté. L'algorithme est rapide et dure moins de \"1\" seconde.\n",
    "        \"La complexité : dans chaque recherche de motif, on fait appel à la méthode find_all. \n",
    "        Dans le pire des cas, chaque caractère constitue une arête, et au total il y a k arête où k est la taille du         motif. \n",
    "        Donc la complexité est de O(k) pour chaque recherche de motif.\""
   ]
  },
  {
   "cell_type": "markdown",
   "metadata": {
    "id": "HrSnp3Q70ngM"
   },
   "source": [
    "6\\. Introduisez deux variation (v=2) au motif initial. Pour cela avant de chaque implantation, créez d'abord un motif varié (avec v substitutions choisies aléatoirement) à partir du motif initial et puis implantez-le dans une séquence. Repetez pour chaque sequence dans le Jeux de donnée. Il suffit de mettre ``v`` égal ``2`` et réutiliser les fonctions définies à la question 1."
   ]
  },
  {
   "cell_type": "code",
   "execution_count": 13,
   "metadata": {
    "id": "OqVEMgjW0ngN"
   },
   "outputs": [
    {
     "name": "stdout",
     "output_type": "stream",
     "text": [
      "Fixed motif:  GTGAATGA\n"
     ]
    }
   ],
   "source": [
    "v=2\n",
    "adnOri, adn,  fix_motif = implantMotif(adnOri, fix_motif, k, v, t, n)\n",
    "adn  = [s.upper() for s in adn]\n",
    "print('Fixed motif: ', fix_motif)"
   ]
  },
  {
   "cell_type": "markdown",
   "metadata": {
    "id": "1RGyKcwP0ngN"
   },
   "source": [
    "7\\. Construisez le suffix tree à nouveau à partir des nouvelles séquences en utilisant le python package suffix-trees."
   ]
  },
  {
   "cell_type": "code",
   "execution_count": 19,
   "metadata": {
    "id": "xN70Hhtt0ngO"
   },
   "outputs": [],
   "source": [
    "st = construct_tree(adn)"
   ]
  },
  {
   "cell_type": "markdown",
   "metadata": {
    "id": "ZVbMQGFX0ngO"
   },
   "source": [
    "8\\. **Inexact matching:** \n",
    "\n",
    "Définissez fonction ``inexact_match`` qui cherche tous les motifs possibles (k-mers) générés à la question 2 dans le nouveau suffix tree donné (construit à partir des nouvelle séquences qui incluent le motif varié), et renvoie un dictionnaire qui contient les motifs (keys) et les listes de toutes leurs variations (values). Il faut que vous utilisiez la technique *seed* pour trouver le motif variable. \n",
    "\n",
    "Ensuite afficher les top motifs (les sequence consensus) de meilleurs scores.\n",
    "Pour calculer les scores utilisér les fonctions precedents. par exemple, le score d'une matrice de fréquence est la somme de max de chaque colonne.\n",
    "\n"
   ]
  },
  {
   "cell_type": "code",
   "execution_count": null,
   "metadata": {},
   "outputs": [],
   "source": []
  },
  {
   "cell_type": "code",
   "execution_count": 20,
   "metadata": {
    "id": "IJ1qE29o0ngP",
    "scrolled": true
   },
   "outputs": [
    {
     "name": "stdout",
     "output_type": "stream",
     "text": [
      "{'banbna': [('banana', 0), ('banbna', 8), ('banbna', 15)]}\n"
     ]
    }
   ],
   "source": [
    "def hamdist(str1, str2):\n",
    "    \"\"\"\n",
    "    Calcul la distance de hamming entre deux chaînes de caractères\n",
    "    entrée str1: chaîne de caractères\n",
    "    entrée str2: chaîne de caractères\n",
    "    sortie distance: distance de hamming\n",
    "    \"\"\"\n",
    "    assert(len(str1) == len(str2))\n",
    "    return sum([1 if str1[i]!=str2[i] else 0 for i in range(len(str1))])\n",
    "\n",
    "def inexact_match(kmersV, sequences, stree, v, autoConstructTree = True):\n",
    "    \"\"\"\n",
    "    cherche de motif variables dans un suffix tree\n",
    "    entrée1 kmersV: liste de motifs à chercher\n",
    "    entrée2 sequences: matrice de dimension txn avec les sequences\n",
    "    entrée3 stree: suffix Tree\n",
    "    entrée4 v: nombre de variations dans le motifs\n",
    "    sortie1 motif_match: dictionnaire clé=sequence consensus des motifs; value= list de motifs.\n",
    "    \"\"\"\n",
    "    motif_match = {}\n",
    "    if(stree == None or autoConstructTree):\n",
    "        stree = construct_tree(sequences)\n",
    "    text = \" \".join(sequences)\n",
    "    repeat2 = set()\n",
    "    for motif in kmersV:\n",
    "        # print(motif)\n",
    "        nbSeed = v+1\n",
    "        k = len(motif)\n",
    "        lenSeed = k//nbSeed\n",
    "        allCandidates = list()\n",
    "        startIndexSet = set()\n",
    "        for i in range(nbSeed):\n",
    "            seed = motif[i*lenSeed: i*lenSeed+lenSeed]\n",
    "            # indexCandidates = sorted(stree.find_all(seed))\n",
    "            indexCandidates = stree.find_all(seed)\n",
    "            for index in indexCandidates:\n",
    "                startIndex = index-i*lenSeed\n",
    "                if index-i*lenSeed in startIndexSet:\n",
    "                    continue\n",
    "                textCandidate = text[startIndex: startIndex+k]\n",
    "                if \" \" in textCandidate:\n",
    "                    continue\n",
    "                # if isRepeatN(textCandidate) or textCandidate in repeat2:\n",
    "                #     continue\n",
    "                # if checkRepeat2(textCandidate):\n",
    "                #     repeat2.add(textCandidate)\n",
    "                #     continue\n",
    "                try:\n",
    "                    if len(textCandidate) == k and hamdist(motif, textCandidate) <= v:\n",
    "                        allCandidates.append((textCandidate, index))\n",
    "                        startIndexSet.add(startIndex)\n",
    "                except :\n",
    "                    continue\n",
    "        if len(allCandidates) > 0:\n",
    "            motif_match[motif] = allCandidates\n",
    "    return motif_match\n",
    "\n",
    "\n",
    "#Test\n",
    "seqTest = \"banananabanbnaabanbna\"\n",
    "st = construct_tree([seqTest])\n",
    "k=6\n",
    "motif_match = inexact_match(['banbna'], [seqTest], st, 1)\n",
    "#{'banbna': ['banana', 'banbna', 'banbna']}\n",
    "print(motif_match)"
   ]
  },
  {
   "cell_type": "code",
   "execution_count": 25,
   "metadata": {},
   "outputs": [],
   "source": [
    "top = 10\n",
    "motif_match = inexact_match(kmersValid, adn, st, v)\n",
    "\n",
    "\n",
    "def printTopMotifsScore(motif_match, top=50):\n",
    "    \"\"\"\n",
    "    Affiche les Top Motifs ayant les meiux scores \n",
    "    entrée motif_match: dictionnaire clé=sequence consensus des motifs; value= list de motifs\n",
    "    entrée top: la valeur à consider pour l'affichage\n",
    "    sortie None\n",
    "    \"\"\"\n",
    "    print(sortDictMotifToList({motif:len(indexes) for (motif, indexes) in motif_match.items()}, reverse=True)[:top])\n",
    "    printTopMotifsScore(motif_match, top)\n",
    "    print(fix_motif, len(motif_match[fix_motif]))\n"
   ]
  },
  {
   "cell_type": "markdown",
   "metadata": {
    "id": "5ABb0l6D0ngQ"
   },
   "source": [
    "\n",
    "9\\. Créez le motif logo à partir des séquences du meilleur motif variable que vouz venez de trouver. Vous pouvez utilizer ce site: https://weblogo.berkeley.edu/logo.cgi. Affichez votre logo ci-dessous."
   ]
  },
  {
   "cell_type": "markdown",
   "metadata": {
    "id": "tXYeF8IY0ngQ"
   },
   "source": [
    "Motif LOGO:\n",
    "<img src=\"logo_1.png\">"
   ]
  },
  {
   "cell_type": "markdown",
   "metadata": {
    "id": "acxgFV6b0ngQ"
   },
   "source": [
    "10\\. Avez-vous réussi à trouver votre motif initial implanté en séquences? l'algorithme était-il rapide? Quelle est la complexité de l'algorithme?\n",
    "C'est un coup de chance, mais pas une certitude. Même si le motif est toujours dans le dictionnaire, il n'a toujours pas la plus grande fréquence. Or, on observe qu'il peut y avoir des motifs aléatoires, qui ont une fréquence plus grande.\n",
    "L'algorithme est assez rapide (environ 15 secondes).\n",
    "Les Complexitées:\n",
    "        \"trouver les textes candidats\" : O(k),\n",
    "        \"nombre de motifs\" : O(4^k)\n",
    "        au total on a une complexité de: O(k*4^k)"
   ]
  },
  {
   "cell_type": "markdown",
   "metadata": {
    "id": "NAygy1d00ngR"
   },
   "source": [
    "11\\. Tester l'algorithme  suffix tree sur vos données de chipSeq. N'oubliez pas de chercher les motifs dans le brin complémentaire et faire un merge de résultats. Puis générér le LOGO du motif trouvé."
   ]
  },
  {
   "cell_type": "code",
   "execution_count": 28,
   "metadata": {
    "id": "kPIHUtnb0ngR"
   },
   "outputs": [
    {
     "name": "stdout",
     "output_type": "stream",
     "text": [
      "['GTACCCTGTGTATATGCTTTGGCTGGTGTGTGTCGCGCAAGAGTATTGATGATGCAGTGTTATAATCCCTGAACCTTTGACAGCTCTGGCACCTCTCTGTGTATGTGTGTACACCCCCCTCTAGAGGGGGAGTAACTCGAAATTATTATTCTAACAGATGATCATATGATCATACCGTGCCCACGAATATGAGCGTCTTAAACGACAATGACGCCAGGCATTATACCGCTCATACCGGTGCAGAAGATAGCCTATAAAAGATAAGATAAGATATAGGCCGGTAACCGACTATCATCTTACAGGTGAAAACCAATTGAGTTAGGGCTTCTTAGAACCAGTTTATCCAAAGACTAAAGGTATAAAAGGAGCCCTCATCTCTATTCAGTTAAACCGAAGTTCTAGTATCTTATTCCGTATAATAACAAGAGAACAACCAGTATAGTCTGTATAATACCCTTAGAGTTTCTGAATCGCTCTATCATCATGTCTTCCAATAACTGGACACAAGAACTCACAACTCATCAAGATCGTCTTAGACTATCGCAACACAATGCCCACGTTGGATCACCTACAACGCGATTCTGAGCACATATAACCTCCTCCTCCAATGTAAAAAGACTCATATTCCAGGGACAAATGTATATTAGCTCATTGTATTAGCTTTGTATTAGCTCATGATTGACATGTATATTGGCACAATTTATATTAGCTCATAAAAAATGAGCTAATATAACAGAAGCACCCGAATCCTGGTGCTGCAAAAATCCTTGGTATATAAACGTATGGCTGCAGAGAGTAATACTCTTGTCAGATGCACTATGTAATAACACTTCATATAGCCAACAAGAACTGCTTTTAAGATACAAAGATGAAATTCTTGCTGTTCGCTGCTGTCGCACAGGCCTACTTGCAACTGGACTTCGAACGTCAGACTGCCCAGGACGTCGCCTTGGCCAAGAGACACACCTCCAACGGTGTCGCAAACGCCATGGACGTCCCCA', 'TGACATCACAATTACTAAGAGAAGAGGAAAAGCTTAAACTATCAATGTACAAAGAAACTATGTCGAATGCACCTGCTTTTTATATATGATCTACCAAAAAAAAATGAAATGCCTCATTGGTATCGCTTATCCGATAAATGTTTCCTGTCATCAGTATCTGTTGGCTGTGTTTTTGTGAAATTTGCTCATTTTGATACCATGTTCAGACGTTTAGTACCTAGCCAATGGCATACAGAAGCTACGAAAGGTTAAAAAGTACGACGAGCCGATCAAATGAATTGCTCTACAGAGGAGCTGACCAGGCACGGCGGTACGTCATTGGCTCGGTGCGGTAGGGCCACTTAAGAGCAAATATCAGGAACAAGAGAGATCAGACTGATTTCGTAATCGGACCAAAATTGTTGAAGATGAGGCACGGAGATTAATGCCGAATATTCCCTTCCACTCGTCTTGTCTCTGTTACCTTGCAGTATTTCAGTGTCTCAGCGTTTCAGCGTTTCAGCGGCTGGGCCAGTTGTAAGCCTTAATTGTGCAAATGGTCAAAAATAGGTACGGAAGCTACACGGAAGCTACACGGAATACGGATAGTCTTACCACTTCGCTTCGACATTTGTTATCGTTCAGGTCTGCCTTCAATTCTTTCGGCATTGT', 'CGAATGAGGAGAAACCGGGACAACTTGTTCCCAAACACATTAAACATTAAACTACAGTAGAAGAACAAGCACTGGAAGAACAAAAAAAAATGGGTGCAAAGAAGATTAAAATTGCTTCTCATTTGGGAAATAACACAGGTGCAATTATATGAGTTGAGCACCACAATCAGAGATGAAAGGACACGCTTAGAAGGAGCTGTACAATGGGTTGACAGAGAATTGAAGTCTCCGAAGAAACCCTAAGGGGGACGATTAAGTTGTTATTGAATCACCGTTTTGGGGAGAGCCGAGACTGGGAGAC', 'CTACCAGCTTATAATCACGCATCTCTTCCTGGCTTTTTGCTTAATACCTGTCCTGCCAGTGCCAGTGCCAATGCCAGTGCCAATGCAAGGATCAGCATCACCATTGTTATATGAGAATTTTTTTATTTTTTTTTGCCCTCCCGCAAGGAGAAGTCGCAGGTGAAGAACGAGAATGCCGAGCAAATTCCTGGAGAGCAAATAAATTCGTACCAGGCATCATCATATGACGGGGGGTATACCTTGCACTACACGCATTTGCAAAGCAAGTCCAGATATACAGGGTATCTGGGAACTTCGATGGCACCGTTCATAATCTTACAGCAGGGAGGGTCTTCACCGCAGCGCTATGGG', 'CCAAGTCGCTAAGAAGCTGAGAACTTTCGACTGTGATGCCTTCGGCCTGTTCAACAGCTCCATGTCCTCTTCTTTCAAGAGCAACGACTCCTCTGAGTTCTTCGTCAAGTACGAAGACGGTACTTACGCTTCCGGTATGTGGGGCACAGACACCTTCAAGCTGAACCACCACAACGTCTCTAATATCACATTTGCGCTGGC', 'TAAATATTTAGCCGCCCAAATATCAGGTACTTCTAAGTTTACACTTGGGCACAGATATCTGCAATGATTTTTCCCCTGTGCTGTAGCATGATACACGGGATCCATGCACTACAAGTACAGTCGGGTTAAGAGAAAGCGGCTAAGTTACGGCGTGGGCCATCAGCCAGGACATGTGTAGCACTAAATACAATCCGCGGGGACAAGAACAGGTGTGTGTATATATATTACCCGCCTCAAAAAGAAAGGAACGAATTTCTGGAAGTCAACGAGGCTGTCGTGTGAGTGTGTGTGGCTGTTAGATGTATGCGAGCATAGTGAGATAACAACAGTTGCTAATGATAGGTTGGCGTT', 'ATGGACAAACGGGACGTATTCCAAAGACAGGTCAAGTATCAACTCGAGAGCTTCTTGAAGTTGAAGGGCCTTGTGATTCCAGAGAGAGACCTAGCGGATATCATAAGGGAAGCCGGCGGGAAACAGACCACAATGTTCAAGCTCTTGTACAGACGATTCAAGCGGCAGAACGAGGCCGGCAAGTTCGTAAACTCCGTAGCAACCGAGACGTTCAAGTCAATACTGCACATACCTTCGAAGACCACCGCGCAGGCGAAGACCACATCGAAGACCACATCGAAATCCAGATCAGCAGCGGTAACGGAGACAACTGCCACAATACCCGCATCTTAAACGAATTAAGACATATAAGAAAGAAAAAGAAACGCGCCGCAAATGTGACTTAAACAAGGAAGCACGATCCAGAACAAATTGCAGACGATAACCGCAGGAGCAACCGCAGATCACTTGCCTCCTTCTCTTTTCCAAATTAGGATAATTACAAGTATATTTGCTCACACAGAGCAGAAGCACACCTGCTTTATCTCGCGTGATTCACACTTAAACCCACGCACGGAGAGGCCTTCCACCATCCATCCGTGCAACCTGCCCTGCCCCTGCTCTGCCCCTTCCCCTTCCCCCCTCATGCTGCGACTCCCCCCCCCACTGCAGTCACTGAGAAGATATGCGCAGCCGTGAGCACAAAGTGACAATCCTATAATTGCTCATTATAGCACTACACGAGCGTGGGCTGTAGAAAGTACTGAGAGAACGCATGCAGAGAGAATAAGATGAGCCTACGGAGGTTGTACGGACCATGGCAGGGAGGCTGGCTTTCCCCCTCGAGACTAGAGGCAAGGATAGATTGGCAGTTTCCTTCGAGTCGGCTGCAACAGCTGCAACAATTCTAAGTGGACAAAAGAAAGAACAGAGCGCAGACAAAAAGCATTGAGCACAATAGGATAAGCCAGAGTTACTGGGACAAAGAAACCTCATTCTTTCGAGGATTGGATGAATGGAAGTCATGGAATGGATAATGGTGAATAGAAAAGAATATTTGCTCAAGTTGACATTCACCTGGAAGAAAAAAAACAGGTCCCTCTCTATGCTGTCAAAAAAAAATTTTGTTGGCCCCGAGAAAGCTCATATATATAAGTGAATTGTATTCTTGAGATCTATCAAAAAAAAAAAAAGACGCTTGGTTATAAGCCACAAAAAGTACCTTACTCCAACAAATCTCCCCACTTCTGCAGATCAGAATAATAAAATATA', 'CTGTGGTGCTTCGTCAGTATTCTTTTTTCAAGATAGATCATTGACTATAAATCCACAGGGGGATATCATAGTATTTACAACTCGAGAAATTATTCTGTGAATATTTCAACTGGAGTTCAACTTTTCAATGATGTCAAAGGAGAACAATGGGGCACGGTGGACTTGCTACAAAGTACCTGAGCAAATTTACAGTTACTCACAGTCTCCTTTGGAAAAATGTCTATAAAATTGTTACGTGGATTACTATGGTTCTCAGTCGTTACTCGTATGAGCTAAGTGATAGTATCACAGACCATTCGATGATAAAGGACAAAAACAGAAACTTAATGATTACTAATCAATTTCAAAACAATTATGCCGTGGGAACCCTTTCGTCATTTGTAATTTTTGATGTCAATGGATTTGAATATTATGTTATTAATGTATATAGACAATTCACTATTCACTATTG', 'GTCTCTAGCTTCCTTCTCAGGAAGACAGACACAGCATGGCTTTGGTTTATCTTCTTTCTGTGGTTCAGACATTTCTTCTTATTGTCGTTATATTGGTGTGTATAATACAAGCAATGGTCTTCACTATAGAAAGATAAAGGAAACAAATGTGAATACTCCTTATTTATACTACTTACTTGCGTGGTCTACTGTTTAAATTTGCTCAGTATTACGTTATATTTACGTCTGGAGATACAGTACCCTTCCCTTCCCCCGTATTCAATATTAACAAATTCCCTTGGTGCTAACGGTGATCTGCAAACTAGATTGCTCTCGAAAAGCCAGTAACTATCAAAAGAAGAGAGGCTAGCCTATCTCAAGTCGTTGCACAAATGACCTATATCACGTGTAGTTATTCGACAGGTATAATGTAGTTGATACTAAATCCCTAGAGCCTTTCCACTTCAAATAG', 'TAGGAACAAAACTCCCCTGTCAAACCACCGCACGGGTGTGCACACAGAGAGATAAGAGAACCATCCCACTGAAATACCTCTGGCCAATATACAAACCCTAAAACACGCGAACCCTAGCCCTAAAATAGCTCAATGCCAAAAAACACAAAAAAGCCCTCGGAGATTACTGTCTTGACTGCGAGTGATCTTGTTACAAGGGGCTGTACGTCATATTCTGTGTATCTCCGTTTGTCTCACACTGTCTCACACTGTCTCACACTGTCTCACACTGTCTTACAGTCCAACAACTGCAGTCGATGCC', 'GCAGAGCTGCCCTGTGTGTGAGAAAATATCACAACATAGAGTTCTGCGCTAGTTTCACTGGATAGCCTTCATATATGCTCAGAAGCCAGCGTGGAATAAACTGCTCAGTATTTGCCTATTAATAAAAGCATTGTATTACAAAGTTGGAGTACGTGGTGTGGTAATTTCTGTGCAGTACCTTAGAAATTTGCGCATGTCCTAGGGTGCTGGATCTAAATGTTTAAATAAGCCAACAGGCATAGAAACACCTGCAGTAAGTAGCTTTTATTAGGGATGAAATGGAATTAGTTTGGATACTGCGGTGCTCTCTGCGACAAGAGAGAAACTGTCCCTAGAAATACCCCCAGACAG', 'GCAGTCCCTCTTGCACTACTTCTGTGTGAGCAAAATTTGGTTTCGCAGAAGCCTGTATCCGTCCCATTGAAGGCAGTTACTTTGCAGTGCGGGGGGCCTAGGGTACAATCACACAGCTCTGTTTTTTTTCAGCTACCATTGTCATTTCCTTTAGAAGATCCTACCAAACTTACAATCCCTCTTTCACTATTCACATGGAGA', 'GACCAGGGCCACGCCTCTGGTGGCCATCACCGACCATATCTCATCGATAAACAGCGGCGGCACTGCCCTGTTGATCTCCTCGTTCTTGAACAGGCTGCGGCCAGCTTCGTTGCCGGTAGTAGTGCCACCATCGGCACCGTCATCGGCATCGCTGGCGTCGCTCTCCCTGACGGGTACACCGTCCTTGCCGAGCTCGAAGACCCGGTGGGACTTGCACCACTCGGTGAGGATGTCTATCCAGGTGTCTATCTGCTGCTTGCGGACCAGCGAGTTGGGCTGCCGGGTGTATAGCGGCGGGAAGGCGTATATCGAGGGCATCCGTGATGTGAGGGCTGTGTCTAGGGGTGGTGAAAAGGCGATGTGTTGGCAAGGCTGTGTGTAGTGGTATGCGAGTATCGGAGCTTATGTGCACTTGATATAGGGTGCAGGTTATGCAGGTTACGTGAGGGTGAGTGTGCTTCTACTGTAGAGGTTAAAATGTGCTCAAAAAAGTGAGCAAAAATAGGCCTCTCGGCAGGGGAGCTTGCGGGTGGGCAACTTGTGGGCCTGGGTTGGTAGAGTATAAAAGGGATAAAGGGTTTGCAGTATAGTTCGTTACTAAAACTTTATGTACTTTATGTAGAATATATGGCGTCTTTAGATTGTTCGTCAAAGTCTTGGGCTGAGAGTCACAGTGGCACTTGCACTTGCGGTGGCACTTG', 'TCCCATTGATTATGACGTTTGTGTTCTTGAGCCCGTGATTATTTTTCCTCCAAAAGCATAAGTGCCCTCTCTCCACTAAAATTGCCGTAGAAGATCATTTCAAAATTTGCTCAATATATTAATGGAATGTAGTTAAATATAGCAAATATTC', 'ATAATCGCTTTCTTTTTTGTTGAAGCTATGTTTTGTGCGTATAAATCACTTTATTATGAAATGATTGATTAAGGTTTCTTCAAATGACTTCAGATGTGCAGTCCTCTGTACGTTTGTTATTTAGTATTATTTTGATCATCAACGATAATCG', 'TGGTAAGTCACAACCAATTAGAGAGAAGCTGGTCGAAGAAAAAGTGGGATGAATCACTTCCCATTCAGGAGATTTCATTGGTACCCTTGCTTTGCTATTAAGAGGAGAAAATAGAGCACAGAAACATCCGCAGGGAGGAAGGGGGGAAGAAATGTGGGGGCGGGGCTACCGGAAAACAAAGCAGAGGGACAAAGTCAATAGTCACGTGCCAGGGAGTCATCAATTTTCAATCAGTTTTCACGTCGGTGTTATCGGTGAAGTTCTTTGTACTCTTTGTGAGTAGTTTCGTATCAAAAACCATAAGCATGTATCGTCAACTACGTGTTTGATATCGTGATTTGTGGCAATCACTAAAGACGGGCTGCTCGGTTGGCTATGTTACCAGAAACTTGCACTTATACTGTATATATCTCGAGCAGATTTCAAAGTTTAACTCTAACTTAACTCTGAAAATTGAGTTTGTGAGAGGCAAATCGCCTGGCATAGTTATCGCAAATATATAGAATATTATTAACCCACTGATGTCACAATGCGTATAGGTATGTATTACATAAACACATATATTTGCTCGTTTTCTGACTCGTAATCTTGAATCGCCCACATCTTACTTTATCTCTTACCACCTGCCCCCCCATAGGGTGACTCCGAATTACAAAGTGCTGGAGCTGAGAAATGAGCAAATTTAGAGAAGTAAGACAGAC', 'TTCATTGAATTATATTTGGTAGTTGTAAATTATCATTCATCATGTAGTTGACATATATATTGTATACCATTCATTTTGTTATTCGTTGTCATATATTGGTTACTAAACAGTTACCATTATCATATTGGTATACTTGTATATTATAGTGTATGATAGTCTACAAAGACATTTAATCATCTATTCAAAGGTATAGATTGATATTGTTATAGCTCTTATTCTCTTTCATATGTCATTTGGATCTTGTATTAACT', 'TGTTTTCAAAAAAAAAAAAAGAAATTATTTTTTCCGTTCAGCTAACTCCCCCAGAACTCTCTCAATGGCCAGGACTTTACGTTAGGATATAGTGGTTACGGCCGGTGTGGGAATATGCAGTCCGAATCTTGTAGAGGGGTGGTGGGGGGGTGAAAGCTAGTTGCCTAACACTAGTTGTGTAAATCAAGTGCTATAAGACAAAGGTCTGCCCGAACGGCTCTGTGCATTATTTGGTAATGTTCTCCAAAAACAAAATTGGACCCTTTCTAAGATGCATAATTGCATTGTAATTAGCAAATATTGCCAAATGGAAAAATTTGTTAAACCGTAAAACTGCAAAACCGTATCTGCAAATGCTAATCTAAACATATTTGCTCATCGCATCAATGGCATTAGGGTGTACCCGCGTGGTTATATCAATCTGTCTACCAGTATGCCACTATTTTTATACAAAAAAAAGAAGTAAAATAGTAAAAGTATAAAGTATAAATATACCTGTCG', 'TGTTAATGTCCAAAAACAGTGGTTTTATCTAACCTATTTTAAGAGCATCACTCTTATAGTATTAGTATTGATGTTATAGCAGTGATGTATTCAAAGAAAACAGAGTATTGAAGTTTTTCATGAAATGTTTTCAAAAGAGAGATACTTGTTTTTCTGAAAAGCAAACGAAAACATTGCTAGTTGATTTAATGCACTCTTGCC', 'TGTATATAGAAGCGGGGCAGACGTACAGTACAAATAGTCAACCCCAAAAAGGGAAATCTAATCTATCCTTTCCCGTTAGTCTTAACAATTCCCCGTTAATTGAAAGTAAAGTGTTTCGTACAGCACTGTCTGAGGATTGATAAATGAAGGAAAACCTTATTGACCAAACAGGAAATATACATGGATATTAGATATTTATCATCCCATGTCTCTTTCTGCACCTGTATCTCTGCTGGGACACAGAACCACCGTGAGCTATTTGAGCTATTTTCTCGAGTGCTGCAGAGATCCTTCTATTTTCCTAAAGAGGAAGTTGAAAAGAGGTCAAAAATGGTTAGGGTCTACGAGAGTCTCTGTGCAGAATACTGCAAAAGAAAAAAATAGTGGAAGGAGTTCGAGGAACAGTGAGGGGCAGATTCCAAATTACCTGAGAATACCAAGAATACTGGACTGCTGCGACAGTTTCAGTGGTCGATCCTGCATGGAATATATTATCTAATA', 'AGGATCATATATACAACATTATAACATTATTTTTATTTATTTTTTCTGTATCCTTTTTAATATTAAATTAACTCGTTTTATTTAGTAGCAAATTCAGAATTAATTCAAATACTAAACATAAGATGATTTGCATACCTATATGTGATGCTCTTAGTCTCGGGAAAGCTCCATCCACTCATGCACACTCAAAAGCTTCAAGTTTTCTTCATGACAAGGAGCATTGGTGCCCTGGTATCCTTTTTCAATATTACAGCACCAGCTCAATGTCTCGTTGCTCTCATTAGAAGCAAAATGAGCAAATTAATAATGCTGCAGTAGTAGATTTAGAAGAAGAAAAGTGCCGGATTTGTAGAGTGCTTATAGTATCACTTTGCAGGTTAATATAACAGAGAACATAATGGCAACTTGGCCGAGTGGTTAAGGCGAAAGATTAGAAATCTTTTGGGCTCTGCCCGCGCAGGTTCGAATCCTGCAGTTGTCGTTAACTTTTTTTTATATGACTTCTATCTTTTTATTTATGTTTTGGATACCATTCATGCATGTTTAACACCCGAATTCAATGATTTAGACCACTATGTTAGCAGTCCATATGCAAACATTGTAAGAACAAATATTTGTTTTGTTACATTTTTAATGTTAATTACTAAGGTCTTATTTTATTTATATGTATTTAATTTAATATCATAAATTCGTTACTATTACATATTCGTAGTATTATGTTTCTTGTATTTGTCAAGAAGTTCCATAAACTGGTCTCTGTCGAGCAGTTCCCATCTGTATACTTTGAGACCACCATCAACT', 'TGTAGTATTGCACCCACAATATCTTCAACCATCGCTAAATTATGCTGTTAGCGGAGCAAGCTTGATAAAGAGGTGAAGTTTAAATTCTTATCGAATCAATGTTCTTTCTCTGACCAAATCTGTGTGCGTAATGCTTATCGGGTAATAGAGTCAACTAAAATACAACCAAAGGTGTATGTGCGAATTGAGTTATTGTGTGGATTCTGACAACGAAGTCGATACTCAATTGGCCGAAATGGCCTGTCAGAAATAAATTCATTGGTTGAGCTTTTCCCTTTTGACAGTTATACCTTTAATCAAGGAAGGAAATAACTATACAATGGCCAACCATGCGGATTTTTAGTTACAACTCTTGGGTGCATTATCTGATATCTAATTCTGCTTGTGCTGAATAGTCTTTCCAGGAACGACTTATAGAGTAAAATTTGAGAAATGGTAAAGGTCAACCTGGCTATATAAATACCATCAGAAATGAGCAATTTCTTTGCAATTGGAAGCGTTTTAAAATTTGCTCATCGGTTTTATTATCTTATCATTGCTTCTTTGTTCTATTTTGTTCTAAAATCAAGGAATATCGATACCTAACTGTGTTATTCAACTTTGCTCAAGTACTATAATTTCCATAGTCGATAATACATAGCAAGATCTGTTCTACATTATAAAAGGAAAATATGCCTAACAAAGTATTTAACGTGGCAGTCTTCTTTGTCGTGTTCAGAGAATGTTTGGAAGCTGTTGTTATCGTTTCCATTCTATTGTCTTTCCTGAAGCAAGCAATTGGTTCCAAAGATATTAAATTATATCGCAAATTGCGTAAGCATGTTTGGATTGGTGTCGCACTCGGGTTCTTTATCTGTTTAGTGATTGGTGCTGGTTTCATTGGTGCCTACTACTCTTTACAGAAAGATATCTTTGGTTCTACAGAAGATTTATGGGAAGGTATTTTCTGTA', 'TTGTATAACATCCAATTTTATCTGCCACCTGTTCAATATGCTGCGCATCATCACTGTCAGTCAGCTCATAAAAAACACTAGTCAGTTTCCCAAATATGTTATCAACAGCTTTATTGGTTAATGATAATATTAATATCTCATCCGGGTGGATATTCTGCGAATCTATCAAATGGTGAACTTTATGCAGTAATGTAGTAGTCTTGCCTGATCCTGGTCCGGCCACTACTTTCAAAGTGGAATTAGGTTCATATTTAGCTTCCAGAACAGATTTTTGTGATGAGGTTAGCTTCCCTTTCCTCATAACCTCGCTCTATTCTTGTTAATTTGCTCATATGCTCATTCTCTTTTGTAGCTATTTTTTGCCATTTTATAATGATCAGGCCAACTCGCAGAAGTAGACATAGTTCATCGCAAAAATTCACATCGAATACAATAGAGGAGGATCATTATTTACTTGTGACTACGTTACTTTTTAATTAGGATTAGTTAAAAACTCTCATTTATTTATACTTATTAAGTAAACGTCGGATTTATGCCTTCAGCTTGTGAAT', 'CAATATTAGTTACGTTCCTTATCATTTTTATTCTTTATTATTTCGTTATAGCGCTTCTAATATCGTGGTCTATCAATGGCAACTATATGGTAGTTCTGACTCTAACTTTATGAGTTACTCACAATTTATGTTTCACAATAAACAGAGTTATTTAGATAGGAATTGAAAACGATATTAATGCGTAAGACTTACAAGTTACCCAAGATTAATATGGTGCGATATGGTAACCTCAGGTTATATGTGCTCACTAAACCATTTGCTCGATTGGGGGCCTCCCGCAAAAATTATGATCCCCTTTGTGCCAGGATGTCTCTGCTCGAGAAGTCGCACACATATCAACGAGCAAATATCTGTCTCAAAGAACAATTGCCCGTCGTATAGGATATGTATATGCGCATATATATATCACGTGGTCATAAAGGCAGATAGCAAGAGTTTACATTGCCCATATGAGTTTCAAATCTATGTGTTGGAATAAGTTAATAGTAGTATCCCAGGACTGTAAGGATGAAGGCCAAATACTGCCAGCATTAAAGATTTGCCAGGCCTAC', 'CAATGCTAGTTACTAAAATCAAATTAATACCACTTCAAAATATAAAGGACTACTCTATATAATCGTTAAATGATTGAAAAAGGGAACTTGACGTCAAATGGACTTGCCACTTTTCTGTTAATCGAGGAATCGGAAGGCTGGGTACTTTTGCTTCAATCAAACGATTATCAGGAGTGGGATTCCAAATTGACAGGAACGGATCCTTAATGGACTTGAGGAATTTGAGTGAAAACAAGAAAGCCTCGACGAGGATGACTTCTCACATGATGTCACTGGGGGCCCATGCATGATTAAACAGAGCAAATGAGCAATTTTAGACCAATCCTATTGATTTTAGTTATTTACCATATATAGTTTATGATAGGTATTTAGTATTCAATATGCATTTGTGTTTTCCTTTATAACTTCAAGCTCTTTAATTGAGCGAGCACAGCGGACTTTGCAGTACCACCAATGGCATCTCTTCTCTCCACGCTCATCTCGAAGTTGAAAGTCTCGTAAAGGTCTTGCTCGAAACGAGGATCGATGTTCTTGAATTGCTCTAAGGATAG', 'GAGTTCACAGAATCATTACTCAAATTAGATCAACAATAAATAAACACTATACCAGAGTTATTTCTCCATAAGTATAAGCTGCATAATATATTTGAGCAAATTATCAAAAGCTTAATCATGTGATATTTTCGTTTGTAAACACACACAAGCAAAAAAAGTGACGCGAAAACGCGTCACGAAAAATTAGAAATTGGCAAAACG', 'CAACAAATTACTCATTTGCCAATCCAAAAAGAAACGATGCTAGTTGTAGTCTAGCTAGTAGCTTGTAGTTGTAATTGTAGTTGTAGTTGTAGTTGTAGTAGTAGTTATAGTTGTAGCTTGTAGCTTCTTGTTAGCTAATGGCTTTTTCAAGTTCTTTTTTCAGCTCTGTGCTTGTGCAATGCTTGTGCCACTTGTGCAATGCTTGTGCTAGTCAATGAGCTGAGTGCATCTTGTGCTGTTCTCTTGTATCTTTCTTTTTTTTGCTGCCCTGCCCCGTTTCTCTGGGCACGAAAGAATTGCTTTTTTCCTCTCTGTGGACAGGGTGTCTGTTGTGTTGTGCTGTGGTCTCTGTGTCTCTGTGTGTCTCTGTGTGAGCAATATACCGCACGGCCACGTACTTGTCCAGCGATCCCTGCAGAGCCGTGCGGTGTCCACATCTGGGATTGGAGGGGCACAGTGGGCCCGTACACCCCCTTCGAGGGATTAACTGGAATTTCAGATCTCTTCTGGACCCTTCTCTATTGCATCATTACAGAGTGTATTGTATGTTGTATAGTGTATGGAGTGTAGAGTATAGTGTATGGAGTGTATTGTATAGTGTATGGAGTGTATTGTATAGTGTATAGACAGTATTGTATGTTGTATATGCTG', 'ATGTTAGTGTATGTGTGGGTGTGCATGTTATTAGGGCAACAAAATAGTACGTGCGAAGGGTTGTGAGGTATTTTAAGCACAGGAGACTGTTTGCGTTGTTGCTTCAAACATGGGTAAAGTGATGAGAACACTATTATCCTTATCAAGCATATTAGTTCCCGATTTGTCAATAAACAAGGGATAGATAAGATAAGATAGGAGATACTACTCCGCCCACTTGTTATGTTTTGACTCTGAGAATTTTTATTGTT', 'TTCCTGCTCTTTAAATGAATTTTTCCATGCTAGCTACAACAAAAATTAAATTCCCCACACAAACCGGTTTATCATTACAGTTTATCATAAAAAATATTAGAAAAAAAGTCATTTGAAATGTGGAAGAGAATTTAGAAAATGAGCAGCACTGGTTTAAAATTAAAAAATGGAAAAAGAATAAGCTCATTTAGAGTTGTGGAAGGGGAAGATGGAAGATGCTTTCAAAGATTCTAATAAAATCAGAAAAAACA', 'ATTTCATTAAGTATGATTATTTGATTAGGTATTACTATTTTAAGTTTATTTAAACATGGTTGAGTATTCTTCTCATTATTTGTACCATCAGGTACAGCTTTACCTTTAGTACCTTTATTAGTTGTAATTGAATTATTATCTTATGTTGCTAGAGCTTTCTCTTTAGGTTTAAGATTATCTGCTAATATCTTCTCTGGACAT', 'CATGATAATATTATGTTTTATTTATTTATTATTTTAGGTTTAGTATCATGAATGTTATTTACAATTGTTAAAACATATTCAAAAAATCCTATGGCATATAAATATATTAAACATGGACAAACTATTGAAATTATTTGAACTATGTTTCCAGCAGTAATTTTATTAATTATTGCTTTCCCTAGTTTCATTTTATTATATTTATGTGATGAAGTTATTTCACCAGCTATGACTATTAAAGCTATTGGATATCAATGATATTGAAAATATGAATATTCTGATTTTATTAATGATAATGGTGAACTAATTGAATTTGAATCATATGTTATTCCTGATGATTTATTAGAAGAAGGACAATTAAGATTATTAGATACTGATACTTCAGTAGTAGTACCTGTTGATACACATATTAGATTTGTAGTAACAGGAGCTGATGTTATTCATGATTTTGCTA', 'TCTTAGTATTTACAAATAAATAAAAATAAAAAGGAGGTGTTGTTTAAAGGTTAAGCTATTAGATTGCAGATCTACTTATTAAGAGTTCGATTCTCTTCATCTCTTTATAATATATACATTAGGATATTAGCTTAATTGGTATAGCATTCGT', 'AAAGATTCTTTGCATTACATTATTTAGTACCATTTATTATTGCTGCTTTAGTAGTAATGCATTTTATGGCTTTACATGTACATGGTTCATCTAATCCTTTAGGTATTACAGGTAATATGGATAGAATTGGAATGCATGGTTATTTCATTTTTAAAGATTTAATTACTGTTTTTGTATTCTTAATTTTCTTCTCATTATTTGTATTCTTCTCACCTAATACTTTAGGACATCCTGATAATTATATTCCTGGTAATCCTTTAGTAACACCAGCATCTATTGTACCTGAATGATATTTATTACCATTTTATGCTATTTTAAGATCTATTCCTGATAAATTATTAGGTGTTATTCTTATGTTTGCTGCTATTTTAGTTTTATTAGTATTACCTATTACTGATAGAAGTGTTGTAAGAGGAAATACTTTTAAAGTATTATCTAAATTCTTCTTCTTCTTATTTATCTTTAATTTCTTATTATTAGGACAAATCGGACAATTACATATTGAACCACCTTTCGTATTAATGGGACAAATTGCTACATTCTTATACTTCGCTTACTTTATTATTATCGTACCTATTATCTCTACTATTGAAAACGTATT', 'TATATAACATTATAGCTCTCTTAGCTTAATGGTTAAAGCATAATACTTCTAATATTAATATTCCATGTTCAAATCATGGAGAGAGTATAAGTAATAAAATAAAATAGATATAAGTTAATTGGTAAACTGAATGTCTTCCACACATTGATTGTGAGTTCGATTCTCACTATCTATATATTTTAATGGATCCATAGCTTAATAGTAAAGTCCTATTTTGTCATAATAGAGGATGTCAGTGCAAATCTGATTGGATTCGTTATATATATATATAAATATATAGGAAAATTCACCATAGGTAAGGTAAATTATTTGCTATGTAATTGAATTTATTATTCTTATGAGTTCGAATCT', 'AACATCTTAGTAACTTAAGGAATAAAAATCAACAGAGATATTATGAGTATTGGTGAGAGAAAATAATAATAGGTCGTAAAAAGTATTATGTATTAATTAATATGTAAGAATATAGGATTAACAATTTCTAAGACTAAATACTATTAATAAG', 'TAATTTAAGATATAGTCCAATCAATATAGTAATATATTGTTAATATTTAAAGGATATCCACCATTATCATCAATTCAAGCTCATTCAGGACCTAGTGTTGATTTAGCTATTTTTGCATTACATTTAACTTCTATTTCATCATTATTAGGTTCAATTAATTTTATTGTTACAACATTAAATATGAGAACTAATGGTATGACAATGCATAAATTACCATTATTTGTATGAGCTATTTTCATTACAGCTTTCTTATTATTATTATCATTACCAGTATTATCAGCAGGTGTTACAATGTTATTATTAGATAGAAACTTCAATACTTCATTCTTTGAAGTAGCTGGAGGTGGTGATCCCATTTTATACCAACATTTATTCTGATTCTTTGGTCATCCAGAAGTATATATTTTAATTATTCCTGGATTTGGTATTATTTCACATATTGTATCTACTTATTCTAAAAAACCAGTATTTGGTGAAATTTCTATGGTATATGCTATGGCATCTATTGGTTTATTAGGATTCTTAGTATGATCACATCATATGTATATTGTAGGATTAGATGCTGATACTAGAGCTTATTTCACTTCTGCTACTATGATTATTGCTATTCCTACAGGAATTAAAATTTTCTCATGATTAATTTATCCCTTTAGTAAGGATAATATGTTGATCATAAATAATTATTTTAATAATATCTTCTA', 'AATAAATGACACATTTAGAAAGATCAAGACATCAACAATATCCATATCATATGGTATTACCATCACCATGACCAATGTTATTATCATTTGCATTATTATCATTAACATTATCATTAGGATTAACAATGCATGGTTATATTGGTAATATGAATTTAGTATATTTAGCATTATTAGTAGTTCTATTAACAAGTGTATTTTGATTTAGAGATGTAATTGCAGAAGCAACATATTTAGGTGATCATACAATTGCAGTTAGAAAAGGTATTAATTTAGGTTTTTTATTATTTGTATTATCAGAAGT', 'ACAACCTACAGAATTACCTTTATTAAATACTATTATTTTATTATCATCAGGTGCTACTATTACATATAGTCATCATGCATTAATTTGTAGAAATAGAAATAAAGCTTTATCAGGTTTATTTATTACTATTTGATTAATTATTATTTTTGTAACTTGTCAATATATTGAATATACTAATGCTGCTTTCACTATTAGTGATGGTGTTTATGGATCAGTATTCTATGCTGGTACTGGTTTACATTTCTTACATATGGTTATGTTAGCTGTTATGTTAATTATTTGTTATTGAAGAATGAGAACATATCAATTCACATCTACTCATCATGTAGGTTTTGAAACTACTATTTTATATTGTCATGTATTAGATATTATCTGATTATTCTTATATATCGTATTCTATTGATGAGGTGTATAATATAATATAATATATATAATATTCTTTATTATTATA', 'TTAGAGTAAAATATTTTTATTATGGCATTTAGAAAATCAAATGTTTATTTAAGTTTAGTGAATAGTTATTTAATTGATTCACCACAACCATCAACAATTAATTATTGATGAAATTTAGGTTCATTATTAGGATTATGTTTAGTAATTCAAATTTTAACAGGTATTTTTATGGCTATGCATTATTCATCAAATATTGAATTAGCATTTTCATCAGTAGAACATATTATGAGAGATGTACAATATGGTTGATTATTAAGATATATGCATGCAAATGGAGCATCATTTTTCTTTATTTGTATGTATATGCATATTGCTAAAGGTTTATATTATGGTTCATATAGATCACCTAGAGTACTAGTATGAATTGTAGGTGTTATTATTTTTGTATTAACTATGGCTGC', 'GCTAATAATAAATCAGTATTATATACTAAATCACCTGATTTTGTAGAATCTAATGAAATCTTTAACTTAAATACTATTAAAACTTCTTCTATTGAATTCTTATTAACTTCACCACCAGCTGTTCATTCATTTAATACACCAGCTGTACAAT', 'TGTAATATAATTATGGTACAAAGATGATTATATTCAACAAATGCTAAAGATATTGCAGTATTATATTTTATGATTGCATTATTTAGTGGTATGGCAGGTACAGCTATGTCTATGATTATTAGATTAGAATTAGCTGCTCCTGGTTCACAATATTTAGCAGGTAATAATCAATTATTCAATGTATTAGTTGTAGGACATGCT', 'CCATCATTAAAAGATACATTATTCTCATATTCTATTTTAGGAATGGCTTTATCAGAAGCTACAGGATTATTCTGTTTAATGATCTCATTCATGTTATTATTCGCTGTTTAATAATAATAATGTTTACTATTAATATAGTAATATTATAATA', 'AGGAAAAGACTAAGAGAACAAGCCTGACAGCGAGAATAATGGTGCTATGCAAAAAAAGAAAGGGAAGTGGGAAAAGCCAATTGGATTTTAGCTTGGTGTGTAAAAAAAAGTTGAATGTGAAAGTTAATAGGTCTTTTTACTATCTTTGGGAATCAAAAACACATAACATGACAGATTTAGTCAGGAAATGACGGATGGATACGATAAAAAAAATAACTTGGACAGCACAGTGTAACCCATGAGAAAGAAGAGCTTATAATTTCGAATTATTGCTGTCAAAAGGCAATACGATTAACATTTAGAATGTAGGTTTACAAGTAAGAAAGAAAAAAAAAAAAACTTTTTTAGAGAGTTTCTTATCCTATATATATTAGCTCTATTTGCTCTTTACTTCTCAATTGAGCAAATATCTTTTCCTTATGAGCACAAATCCTGATCCACAAGTACACACTATCAAAAGGAAAACTTCTTTTCTGTACCTAAATCCACTTCAACTAGACCAAAGTAGATAACAGAAAAAAAAAAAAGGCCTTAAAACTTTTGAAGTTTGAGATAGGATAGACGAAGAAAAAATAAATAGAGATGATGGTACCTTTGCTGCTATCGACGTACTTCATCACTGCTGTGTATGGTGCTACGCACACTTTCCACTGGACTACGGGTTGGGGCAACCGTAATGTTGACGGTATCAAAGAGAGACCTGTGATCACGTGTAATGGAGAGTACCCATGGCCTGATGTCCGTGTTGCCA', 'TACCACTCACAAGTCTCTAAGAGGTCCTCGTGGTGCAATGATCTTCTTCAGAAGAGGTATCAGATCAGTTAACCAAAAGACTGGTAAGGAAATTCCATATGACTTGGAGAACCCAATTAACTTCTCTGTCTTCCCAGGTCACCAAGGTGGTCCACACAACCATACCATTGCTGCTTTGGCCACCGCACTAAAACAAGCTGCTACTCCAGAGTTCAAGGAATACCAAACTCAAGTTCTAAAGAACGCTAAGGCTCTAGAAAATGAGTTCCAAACTCTAGGTTACAGACTAGTCTCAAACGGTACCGACTCACACATGGTTTTGGTCTCCTTGAGAGAAAAGGGTGTCGATGGTGCTCGTGTTGAATATGTCTGTGAAAAGATTAACATTGCCTTGAACAAGAACTCTATTCCAGGTGATAAGTCAGCTTTGGTCCCAGGTGGTGTACGTATT', 'CGAAGATGTGCGACAATCCCATTTGTTGGATTCACAGAAAGCAATGTAGAGGCCAACTGATTTTCGACGTTTGGTATGTACTTTTTTTTGCTGTGTGAAAGTGGACAAACATCCCCTCCTTCCTACAAGTCTTCTACCGAGCGAACAAGAGCAAATATAGGGATGGAATAAAATATTACTGATCCAGAGACAGGTGCGTACAGTACTCAAATCAGATAGGACGGTACACACAGAAGATGGGAGGGTTGGTG', 'GTTCTCCAGCTAACTTGCAGGTATATCAAGCTTTGATGAAGCCCCACGAAAGATTAATGGGTCTATACTTGCCAGATGGTGGCCATTTGTCCCATGGTTACGCTACTGAGAACAGAAAGATCAGTGCTGTCTCCACCTACTTCGAATCCTT', 'CACCACACTCCACCCACAACGTACTACATAGCAACAGATTTATCATTTCATTACCCCTATAATGTTTTGTATTTATCATCCTAAAATTAAGTTCTTAACAATTACTTGATCATATGACAGTTATTTCACACAAATATCAGGTATCCCAAAGATGTAATGTTATACATCCATGACCTGCTAGACTATAAACATTACACATTCATTAAATTATATTTTGTAGTTGTAAATTATCATTCATCATGTAAGTGTCATTTGCTCTTGTATGGCATTCATTTTATTATTATATGTTATGAATTGATATTAAACAGATTAATGTCATCATTGGGGGTATTTCTGTGTATTACATTTGTTTTATATTCTCTAAATACATGTGATCATTTTATCAAAGTACATACTGCTATTTAACTATAGCTCTTGTTCATTTTCATTTGTCATTAGGATTTAGTTTTATCTAGTACTTTGAATCCCATAGTGGAGCCTTAGATATATATGGACATATCATCTACTCTACAAATGTCTTTTCATGAATGTAGATATGCGGCCAGAAATAT', 'AAAAATATATTTTGCCCGAGTATTTAATACTGTAAACAAAAATGTTGTACAACAATGGCTTTTAGTAAAAAATTTGTAATAGTTCAATTATAGAATTTACCAAGACAGAAATAATAACAGGTTTTTAAGGGTCTTTATTGAGCAAATTTCTACTAACGTAAAATCGTCTGACCGATAACTTGTCAGTAGTTGCCAGGTCGCAATTCGAAATCACCATCTAAATATATGAGGTTGCTTTCAATAAAAAAATC', 'GAACACCCATTCCCCAGCGTGCACACACTGCACTGTGCGAACAAAAGGAAGAGCAAATTAATAATTGGGGGCCGGGTAATTGGTTAAAATGACGTATTTTTATCTCTATCTTTCTTTCTTTTAGCTCTTTCGACTTTTGATCTTTGTCTTGTAGTAATATTGTAGTAATGCAAAGGCTTTGTACGCATAATTCTGTTTGGA', 'GACACATTCTCCTCTGTGTCACTGATCTTGGAACTTCCCGCACCCTCGTGGCTTCCGTGTGCTTCTATTCTTCTCAGTTCACTGTTCTTCTCTGTTCTTCTCTGTTCTTCTGCGTTCTTCTCTGTTCCACGAAGAAACAAATGGGAAAATGACTCAACACCAGGCGTTCTAGAACAATCCAACCCACGGGGAAATCAATTC', 'TTCCAGCAATAACAATGCCGGCAAAGTTATACTTATTGCTCAACTTTGCGTCTAAGTCGGTTTTGGGGTTAATCGCCCATCTGATAACAAAGAAAACACCATGCAATAATCCAAATATAACAATTAGCCTAGATAACCACTTGTGAAATGGGATAAAATCTGTATAGACATATTTGTCTGTAAAAAAGATATTGGGTCTCAAATTCAAAAACAGATTTAACGATAGAAGAACATAGCTTAGTCTCCCCAGTCTCATAATGTAAACTGCAGTTTGAGAAAAGATGGAATAATGGTAATAAAACGTAGCAATCAATGGAATAAATAGTATTAACAAGTGTAATGCCGGGTCAATGGTGTAAAGCCGTTTACATAGCCCACCAAAGAATGTCCTATTCTTATTAGAAGGGTACGACTTAATGATCCTTCGCAGCAAGATTAAAAATACCACATATGCAACGCTAACAAAAAATACAATATAACCGTAATTGATATTAGCAAAATGAGTATTGCCGTGTCTTTTTTGCAATGTAATCGACTCCAATGGAGCTGGTCTTCTTATTTCACCCATTTAACCATCTAATATTACCTAAATAATACGTAAGCTTTTCTGCAGTCAAAAGACCAAAAGTAGAGCTTTTATATTAGCCTTGATATTTACAGTTTTATTCATCTTTTAAATATGATGAGCAAATATAATTTGCTTTAAATTGTTCAAAACTGTTATCAGTACTTTAATGTGATAAATTAGCTCATTTTTCATTGTTTATTCCGAAGGATCAATGTGGCCGTGGTTGCTGAAGTAAGATAATAACTCAAAGTATCAATTTGGCTACCAAAATATCAAATTAAATGGTTGAAAAAAAAAATGTGCAAAATCTACAATTTAAAAGAAAAGAAGTTTTATACAGTTCCAATTTATATACCAGTGCTAACTTAAACAACACATATACGGTAAAATGTCTACTGAAAAACATTGTAATTTAGGAAGAACTCAATTTTCTTTTATTTTCTCTTTTTATAATGCCATCTTAATTTCTGGCATTTTTTTTAAGTTGTGATTATCTTGCTAACACTGAAAAATATATGTATCATCCATTGTCAAAACTTTAATTAAGGCTCAATTACATCTAGTCCTATAGCATCATATGGATTTTGTAAAGGATATGCAGGTCTTGTCCAATAATATTTTCGTACATAGTTAGAAAAAGGTTTTGTAGTATATTTATAATTTTCAAGCGTGCAACACCAATA', 'ATTATCATTCATCATGTAGTTGACATATATATTGTATACCATTCCTTTGGTTTTCATTGTCATATATTGTTACTAAACAGATTAATGCTAACATTGGGGGTATTTCTGTGTATTACATTTGTTTTATATTCTCTAAATACATCTGATCATTTTATCAAAGTATAAGCTGCTATTTTGTTATAGCTCTTGTTCAGTTTTTTA', 'TCCCAGCTCGCCCCAACTTTTTTTTGTATTTTGTCTTCAACTAAATGAAATAGTATTCATAATACTGTGTTTTTTTTATTATACATACATGCAAAACTAGCACAATAAGAATCCCTAGTAACAATTTCTTTTACCAACTATCAATTATAATTGAAACAACTAAGTCTTTTTATTACTGCGTATTTACAGGGCTATTTATTG', 'CTTGTAATTTTGTACTTTTCTCATAATTTAATACAAATTATACCTCAGTTATATCTCACAAAACAACTATCATGAATCTATATTCATAAAAGACACAACTGATACTTGACTTATATTCACTTATCAGCTACATTTCATATATACGAGACAAATCTTTATACAATTACAATTTGCTTAATATTACTCTATAATGCCAAAGAT', 'TAACTAATATATCAGCTTGCATTCAAAACCTAATAAACAGCGCGGATTGGAGAGATATAGAATTGGTCATTTATCAACTTCATAATCTCAGTGAAAGTATAAGAAATAATTTATTTGGTTTACCGAAAAATCAAATCATTAACTCTGAACCCTCTATGATTATGAACAATTTCATGCGGTTATTACTAGATAACAGTACCGTTTTCCAAATGGATAGTTCTTACGTACAAATATCATTTTTCGAGTTGATAGTAAGACATTATCAGTTTTTGTCTTTCTCTGGTACGAAAGATGAACTGTC', 'TTTTGTCATCAAATATTTTTTTGTAAATTCAAAATAGTTTCTTCAAAAAAATTTGGCTGGCATATTTACTTTTTATGACGTCACTTCTTCTCCAAGAAATAAATGTTAGGGTAGCACCTACTAGGTATTGTGGATTATATTTTATCAATCC', 'TCCTGTCTGTGACGCTTTATTTTTTTAATTATACTTCAAATATATTTTTTTGAATCTTCTGTTTCCCATTTTTTGTTAATCACCTAGACTCATATATATTATAGTAATCACCAGGAAAACTGACTAGCAATAAATTTACATATAATCGGATTGGTCTAGGATTTATTAACTGGTACTCTGTCAAATATATATTATTGACTTGTTCTTCATCTACCACTCTTCTCTACTCTTTACTTGCTCCTTTATTACATTTCTCACAAACCACATTGAATACCCAATATTAAACTTTTACATATATCATGAAATAAAGCAATCTTTTCTAAATAGACTGAAAGGTTTTTGAATACATTATTTAAGGTCTGGTACACTTTTCAGTAGCATTCAGGTATAGAACAATACCTACAGTGAATCAATAAGATAGCATAAACGCATGTGATGAAACCGTATGGAA', 'ATAGACTTGAATCGGACAGTGCGATTGAATGGAAAAACCCTTTTATAGCAGAAACGACATGATTATTTATGAGTCTTGATGGAAATTGATTGTAATAAGGAGTTTCGCCGTTCTTTTCGAAAATATTATTTCTTATTTGGTAGAAGCTTGTTATTGGAGCATTACTTTTTTGGTAATTGGTATCCTTGTTTGTGGATGACA', 'TTTAACGTTTTGTACAGATAATCGATGAGAGGCAACGTAAACTACCATTGATTCAAGACAAAAGACATGTAAGCTATAACAAATACTAGTAGAACGCGATTTTTTTATTTTTAAATTTAAAAGTTACAGATGTTTACAATGTGAATATGAAAGATTGTATAAGGTAGAGATACAAAGTTTCTTATGTTTGGTCTTATCCAG', 'GGTAAAAGCGTCAGTAGTGAAACTGCTGAGAACATAGCTCGTTATATTAGACAATGATTTATATGAGAGCTTAGTTTACTAATTATGTTCTATCATTAATTCCTAAATCGAGATATAGAATGAATAAAGCTTATGTAATTATTATGCATCCTTAAAACTAAAGCAGTATACTTACAATAACTCAGGTATAGAGACCTTCATCGTATGCAGACCTGATAGGTGTGAATCCGTAAACACCTTTCCATGATACA', 'ATAAATTACACACTCTAATCAAAAGAAAGATTGATTATTTGAAGAAAGTCATCACCTAGTTAGCATCAGTTTTCATATCATTCAAACCCAAATCTTCATTTTGTTGTTGGGTTCTTTCGTAGTCCTCTATCTTCATGTTAGGATCTGGATC', 'ATAATGAAGTATGGAATGTAAAAAAGGAGCTAGAGTAATATTTACATTTATTCCTCCTTTACCACATACTTCTCTCTTTGCTTTTTTCTTGCTTCTTCTTTCATAGCTCTTGCTGTTTCTGGATCAAGCTTTTCAACTAAATATGGGAATG', 'ATTTGCAAGAGAAAAAATCGAGCTCGCTGATCAATTAATTATAGATAATGCATCTAATCATATTGAAAATTCAACCAGAATTGTTACATATGGTTCATCTAAAGTTTTAACTGAACTTCTTCTCCACAATGCAGTTACACTAGAAAAGAATATCGAAGTAATTGTTGTAGATTCTAGACCATTGTTTGAAGGACGTAAGATGGCCAAGCTATTGAGAAGCAAAGGTGTAAATGTTAGATACTGTTTAATTACAAGTTTAGACACTGCATTCAATATGGATGTTGACTATGTTTTCTTAGGG', 'TGCATTTTCTCATAGTTTCAGCGGCATCTCTTCTTATAATTAGCTTTGTATCTTTTAATGAACCCCATATATTATCCAATATCGGGTTGATGTAAGGAAATAGCAAATATGGAGAGTTTTCTATAAGAGAGTAAAGTATAAGTATTGCTGCATGTCTCCTATATTCCTGTTTAAAGTTTAATGGTGGGTTATCTGTCGATG', 'AGGCTCAGCCTTTATTGTCAATTCAAGATGACACAAGTAATCACGGAGCTAAAACCTTTAGTAAAACACATGCCATTTTGTGAATAAATAACAGAAATCCCGTGTACATTATTTCCTTTTTTGGTCAATTCACAGAATATTACACATCAATTTTCAGCTTTATTATCCAACAGCACAGGGCGTTTAGTTACAAGTATAATGGTGGGGAAGCATAAAAGGGGAAAACAAAATTATTATTAGTTGAATGCAAACAAATAGCCGGAAAGAAGAAAGTAAATAGATAATATGCCAGTAATTGACATATAATACCTTACTTATTTTTTTTCCATTGAAAACACCGTTTATTCGTCAACATCAGCGACAGACTCTTCAACTTCCTTAGCTGCAGCATTGTCATTGCC', 'CTTGATGAAAAGAATTGCAATCATATCTGTTAGTTGGTTATTTGCCGGAATTCATGTTACCTTGTTACAAATAGTAGGCCTTTCCCTTAATGCAATTGGTCTTTTCTTATATGAAAGATATAGCAGCACCCAAAAACATGCCAATAAATAGGTGTTGCATATTTTGTGATTGATATTATAATAGAAGAAAAACTCAACGAA', 'ATGCCCTAGTAAGTAAAAAACTAATTCATAGATCCTTGATTGAAAAGTTCATGAATATTGCAGAGGTGGTTCTAGTCACATTTTCATATTTCAGTAAACATGAGACAATTAGAGATGCTTCCAGGTTTACGTTTTCTCGTCTAATACCAATATTAAGTGATGATATAGTTCCATTTGCTAATAAGCTGATACTTCTTTATTTGGAATCTAATTTGAAAATGATGGAAATGAGTGATTTTCTAAGTTTTTTG', 'GGTTAATAATATTTCCTAGGATAGAAGAATGTGCCAGTAGTAGCGTCTTTCCAGAATCGATGAAATTTAAAGACTAATGATAAATGTCACACTTATAATTCTAAATCCCTTTAAGTCTATCTTAAGATTCTTAGAGTAAAAGGAAAACTGGTAGGTATCCTGGTAAAAATTTGAATCGAAATTTCTATTGTGGTCAATTGATGTTTATATAATGAGTTCGTAATTACTATAGATTTGCCCTTTCGATTAAC', 'CGCCAACATGTCCAAGGAATACGAAAGAGAAACTAACGAACAATAAAGTTAGAAAGGAAAAAATGAATATTAACAACCTTATATTTATCTCAAATGAAATCGTCAAGGGATTTCAAGCTATTTTTTTCATTCTAATGTTATGATTTTTAAT', 'GCCAATCTTCTTTGGATTTCTGCTGAGAGCAATCCCATGCCGATTTTAATATTTGTTGATCGACGACAAATTTTTCAGTTCTGGGATTGTTTTGTAAGTTTATATTCTTGTTCTTTTCCTCAGAATCTTTATCAAGTAAGATATTAGTGTT', 'TTCGTAGTGTTTTCTAATTTTATACTTTGTTTGTAGTCCTTCTCTCAAATTTATCTCCAGTTGGTGAATGTAGGAGTGCATTTTTGATCTCACATTTTCTGATAAATCTCCAATAGAGATAAATATCGCTTCTTTATCTGCATTGTTGGCT', 'CTACTGGTAAGTTATATTGCTTAGCATTTTCAATGTGCTTGGCCAAGTTTGCACAACCCTTCCTCAGTAGTTCTACATCTTCGTTCAAGTATTCAGATGGTAAAGGAGCACCAGCCTTTACCTCAGGTCCACCACCGTGTACCTTCAAAGC', 'TCCTGTAAAATTCTTTTAATGGGATTCTTTTTGTTGATTTGCATTGATTTTATTGCAAACTTCTTATTAGTTTCAGGATCAACAACATAATAAACTGTAGAAAAAGGTCCCTGCCCAATAATGGAAATATCCTCAAATTTCTTCGATAAAT', 'TGATTCGGTTTTTAGAATATTCATTAATAGTCCAAGGAGTTCAGGGTACTCAATTAGTGGGTCTATCACATAAGCAGTCGAGCTTGATATCTGAATCAATGTTTTTATAGCTGTCGCTCTTTTTATTGAATTTAGTTGATTGTGTAATGTC', 'GAATTCCAAGAGGCAATCGCTAGACTCAGCTCATGAAGAGTTTTTAGTTTCATTACTACAGGTATGTTTCAAAAAGATGAAAATAGATGAGTCTTGTACAGAAGAAAGTGTTGATGATATTGAAGTGTTTTGTGAGAGTATTAGATCCAAA', 'GACTTTGTTTTGCAAGGGGGGGAAGGGTCTTACTAGAAAGTAATTTATTTGAGCGTAGTTCTGCATGTGCAATTTGCGTCATTTTTATCTTGGTGTAGTTCTTTCATATTAAGTCTAACTTTTTAAAAGAGCCTCCCAATACGTTTGCATGTATTTTGCAATAGGTAGAGCATATTTTCCAATAATTGCGCAAATACTTTTTTTTCGAAACAATCTGGAACCATAGTGGTAGCATCATCAAGCTTTGGTTATTTTGCAAGCACTCACAGAGATGTGCGTAACTATCTGATCCGAGGAACGATCTATAGGCCAATTAAGCAATTGACCTACAGTAACGTTGACTGTATCACTGCTATCATTGTTAGCTTTTCTTTTTTAAAAATTATAGTTGTAGTAATTCAACAATACTTATTGTTATTCATCGGTGGTATATTACAAGATTAACATGCAGGACAAAGCCTTTTTTTTATCCCTCTATTATGCCCAGAGTTTGAAAAGTAGATGAGCTGTATATTACAATACATCATTGTATGTCATGAAATATGGCTATTGCTATATGCATTTGTCTTATTATTGCAGGTATCTACGACATTCGTACCAC', 'GCTGCCGCTGTGGGGTGGCTGTCTGGTCATCATCGGTGCCACCATCCTCGTCTCTTTCTTCGGTTACAAAGTAATCCACACTTATGAAAAGTACTCCTGGGTCCCAAACTTCGCTGTCTTCCTAGTGCTTATCGCTAGATTAAAGATCTCTGGTAAGTTCCACAACGGTGCTTGGGGGTCCGGCCCTACCACCGCCGGTAG', 'CCAACTTTAATATCAAAATCTGTATTTTGATTTTTTACACCCCACATTTTGATTCAATAATTCTATGGTATACAGAAAAAACAACAAAAAAGTAAAAAGAATATCGCTTCTTTTTTACAGTTCGTTTTGATCCATTTATATTTTGAATCGTTTTTATTATTCATCACGATCTTAATATCTAAATTTTTTATTTTACGGCTGTCGCATTCATTATGGTTTTTATTACTCTAATATAAAGAAAAAATATTCTGTTATTAATGATAAACTGTTTTCTTTTTCAACACTTTTGAGATCCATTTCTCACGAAGTGGATCTGAATTACAATTTCTAAAAGAAATGTAGAAAAAAGTGATTTACTGATCTTTCCAATCTGCTTTATTGAACTTCCACGATTATTCTAAATCCAATTTAGAGTTGTTAAGGCTTCTAACTTTTATTGGTGTCCCTTCTTCTTTTGGTTGCTTATTTTCTTTTCTTTCCTGTCACCTATTTTCTCTTTCGAAGAACTCTATGCTTTTTTAATTTAATAAAGGAAACACTTACACACACTACTTTCGAAAATTTTTCTATTATCCGGGGGTTTTTTTTATAAAGAGAAAAG', 'AAATTGCCGGCCCAGATATTATTAGTCTACTACCACAAAGGTGTTCGGTACACAGAATAACCCGCTCGGGACACGTCCAATGGTATATGTGTGAGACACTTGTTGACTTTATCTCAATGAGGTCAACGGGAGGAATATTTGCTCAGGTGCTTGTATGAAATAGGAAAAAAACGCGAGAACATCCCAAGTCATGGAATATTGTATTGGACTTGCATTTAATTGTAGAAGTAGAAGTAATATAAGTACATGTC', 'GAAGAAAAATACGAGGTCTCCTGAGACAAGAGCGTACAGATCCTCCCTGAAACCGGGCTAACAGAAACCAGAAAGGGCATTTCAGAAATTCCCCTTTCACGCTGTTTTCTGAGGGGAACAAGGATATATCGGACACCCCCCTGCCATTGCCCGATAGAGACTAGGGAAAATTGCTCAACGACAAAAGACTGGTACCGTTAA']\n"
     ]
    }
   ],
   "source": [
    "def readFasta(genome):\n",
    "    sequence = []\n",
    "    file = open(genome, \"r\")\n",
    "    sequences = []\n",
    "    seq = \"\"\n",
    "    for s in file:\n",
    "        if s[0] != \">\":\n",
    "            seq += s.strip().upper()\n",
    "        else:\n",
    "            sequences.append(seq)\n",
    "            seq = \"\"\n",
    "    return sequences[1:]\n",
    "genome = \"Sequence_by_Peaks_5.fasta\"\n",
    "sequences = readFasta(genome)\n",
    "print(sequences)"
   ]
  },
  {
   "cell_type": "code",
   "execution_count": null,
   "metadata": {},
   "outputs": [
    {
     "name": "stdout",
     "output_type": "stream",
     "text": [
      "45672 80\n"
     ]
    }
   ],
   "source": [
    "print(len(kmersValid), len(sequences))\n",
    "motif_match_fasta = inexact_match(kmersValid, sequences, None, v, autoConstructTree=True)"
   ]
  },
  {
   "cell_type": "code",
   "execution_count": null,
   "metadata": {},
   "outputs": [],
   "source": [
    "printTopMotifsScore(motif_match_fasta)\n",
    "printTopMotifsScore(motif_match_fasta, 10)\n"
   ]
  },
  {
   "cell_type": "markdown",
   "metadata": {
    "id": "POgmVAqT0ngS"
   },
   "source": [
    "Motif LOGO:\n",
    "<img src=\"logo_2.png\">"
   ]
  }
 ],
 "metadata": {
  "celltoolbar": "Raw Cell Format",
  "colab": {
   "collapsed_sections": [],
   "name": "TME7_2022.ipynb",
   "provenance": []
  },
  "kernelspec": {
   "display_name": "Python 3 (ipykernel)",
   "language": "python",
   "name": "python3"
  },
  "language_info": {
   "codemirror_mode": {
    "name": "ipython",
    "version": 3
   },
   "file_extension": ".py",
   "mimetype": "text/x-python",
   "name": "python",
   "nbconvert_exporter": "python",
   "pygments_lexer": "ipython3",
   "version": "3.7.3"
  }
 },
 "nbformat": 4,
 "nbformat_minor": 1
}
