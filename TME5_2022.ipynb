{
  "metadata": {
    "colab": {
      "collapsed_sections": [],
      "name": "TME52022.ipynb",
      "provenance": [],
      "toc_visible": true
    },
    "kernelspec": {
      "name": "python",
      "display_name": "Pyolite",
      "language": "python"
    },
    "language_info": {
      "codemirror_mode": {
        "name": "python",
        "version": 3
      },
      "file_extension": ".py",
      "mimetype": "text/x-python",
      "name": "python",
      "nbconvert_exporter": "python",
      "pygments_lexer": "ipython3",
      "version": "3.8"
    }
  },
  "nbformat_minor": 4,
  "nbformat": 4,
  "cells": [
    {
      "cell_type": "markdown",
      "source": "# TME 5 : Projet Detection de motifs\n\n\n## Recheche de pattern (motifs) en permettant des variations\n\nLes motifs que nous cherchons dans les sequences d'ADN peuvent contenir quelques variations ou mutations. Nous allons developpé dans cet partie differents algoritmes pour la recherche de motifs variables. ",
      "metadata": {
        "id": "Rx466dVIpn3_",
        "tags": []
      }
    },
    {
      "cell_type": "markdown",
      "source": "1\\. Comme dans le TME precedent, nous alons d'abord générer des données atificielles pour pouvoir tester les algorithmes. Faire une fonction pour générer `t` séquences artificielles de taille `n`. Implantez dans chaque séquence un motif de taille `k` à des positions aléatoires avec `v` substitutions choisies aléatoirement.",
      "metadata": {
        "id": "fdcJxBtVpn4F"
      }
    },
    {
      "cell_type": "code",
      "source": "import random\n\nnuc = ('A', 'C', 'G', 'T')\n\nk=4 #taille de motif\nv=1 #nb de positions variable dans le motif\nt=3 #nb de sequences\nn=10 #longuer des sequence\n\n\n\ndef generateRandomSequence(n, upper=True):\n    \"\"\"\n    Génère une séquence nucléotidique aléatoire \n    entrée n : longueur de la sequence\n    entrée upper : bool, si True les nucléotides seront majuscule, False minuscule\n    sortie sequence : une séquence nucléotidique aléatoire \n    \"\"\"\n    nucList = [nuc[random.randint(0,3)].upper() if upper else nuc[random.randint(0,3)].lower() for i in range(n)]\n    sequence = \"\".join(nucList)\n    return sequence\ntestMotif = generateRandomSequence(6)\nprint(testMotif)\n\ndef modifierMotif(motif, nbpos,  upper=True):\n    \"\"\"\n    Modifie nbpos positions d'un motif aléatoirement \n    entrée motif: motif à modifier\n    entrée nbpos: nombre de positions\n    entrée upper : bool, si True les nucléotides modifiés seront majuscule, False minuscule\n    sortie motifM: motif modifié\n    \"\"\"\n    motifM = motif\n    posToModified = random.sample(range(len(motif)), nbpos)\n    for pos in posToModified:\n        newNuc = random.choice(nuc)\n        while newNuc == motif[pos]:\n            newNuc = random.choice(nuc)\n        motifM = motifM[0:pos] + newNuc + motifM[pos+1:]\n    return motifM\n\n\ntestMotif = modifierMotif(testMotif, 1)\nprint(testMotif)\n\ndef implantMotifVar(k, v, t, n):\n    \"\"\"\n    Génère des séquences aléatoires et les implante des motifs variables (un motif par séquence)\n    entrée k: taille du motif\n    entrée v: nombre de variations\n    entrée t : nombre de séquences \n    entrée n : longueur des séquences\n    sortie DNA : matrice de dimension txn avec les motifs implantés\n    REMARQUE : La taille totale des séquences plus le motif doit être égal à n, pensez à générer de séquence aléatoire de taille n-k pour pouvoir implanter un motif de taille k\n    \"\"\"\n    motif = generateRandomSequence(k)\n    modifiedMotifs = [modifierMotif(motif, v) for i in range(t)]\n    posToInsert = [random.randint(0, n-k-1) for i in range(t)]\n    preSequences = [generateRandomSequence(n-k) for i in range(t)]\n    sequences = [preSequences[i][:posToInsert[i]] + modifiedMotifs[i] + preSequences[i][posToInsert[i]+1:] for i in range(t)]\n    return sequences\n\nadn = implantMotifVar(k, v, t, n)\nprint (adn)\n",
      "metadata": {
        "id": "LSz7T4a3pn4G",
        "trusted": true
      },
      "execution_count": 1,
      "outputs": [
        {
          "name": "stdout",
          "text": "GTCATG\nGTAATG\n['CGTCGATGC', 'ATATTCGAG', 'TAGTTGCAA']\n",
          "output_type": "stream"
        }
      ]
    },
    {
      "cell_type": "markdown",
      "source": "2\\. Visualisation de motifs. Nous pouvons visualiser les motifs à l'aide des outils de LOGO https://weblogo.berkeley.edu/logo.cgi. Executer votre fonction de generation de motif variable, extraire les motifs et visulise-le à l'aide de webLogo. Utiliser les parametre ci-dessous.\n",
      "metadata": {
        "id": "G0AARLzmpn4I"
      }
    },
    {
      "cell_type": "code",
      "source": "k=8 #taille de motif\nv=2 #nb de positions variable dans le motif\nt=10 #nb de sequences\nn=10 #longuer des sequence\n\nadn = implantMotifVar(k, v, t, n)\nprint (adn)",
      "metadata": {
        "id": "TYCLBSw8pn4J",
        "trusted": true
      },
      "execution_count": 2,
      "outputs": [
        {
          "name": "stdout",
          "text": "['GAGACCCGG', 'GATTACCGA', 'AGAGCCCCG', 'GTGGGCCGA', 'GAGTGAGGA', 'GAGTTCTGC', 'CGTGTGCCA', 'AAGTGCGGT', 'TAAGTCCCG', 'AGGGTGTCG']\n",
          "output_type": "stream"
        }
      ]
    },
    {
      "cell_type": "markdown",
      "source": "3\\. Préparation pour l'algorithme _\"Brute Force Motif Search\"_. Avant d'implementer  l'algorithme _\"Brute Force Motif Search\"_, faites une fonction pour calculer le score `score(s, seqs)`, où `s` est un ensemble de position initiales `s`$=(s_1,s_2,...,s_k)$  et `seqs` est une matrice de taille `t x n`  (`t` est le nombre de séquences et `n` la taille de ces séquences), pour tester votre fonction utiliser la matrice et les valeurs ci-dessous (voir aussi les slides du cours).\n",
      "metadata": {
        "id": "s-z3kpompn4K"
      }
    },
    {
      "cell_type": "code",
      "source": "import numpy as np\n\nk =8\nn = 68 # length of each DNA sequence\nt = 5 # number of  DNA sequence samples\n\ns=(25,20,2,55,59)\n\nadn = [\n'CCTGATAGACGCTATCTGGCTATCCAGGTACTTAGGTCCTCTGTGCGAATCTATGCGTTTCCAACCAT',\n'AGTACTGGTGTACATTTGATCCATACGTACACCGGCAACCTGAAACAAACGCTCAGAACCAGAAGTGC',\n'AAACGTTAGTGCACCCTCTTTCTTCGTGGCTCTGGCCAACGAGGGCTGATGTATAAGACGAAAATTTT',\n'AGCCTCCGATGTAAGTCATAGCTGTAACTATTACCTGCCACCCCTATTACATCTTACGTCCATATACA',\n'CTGTTATACAACGCGTCATGGCGGGGTATGCGTTTTGGTCGTCGTACGCTCGATCGTTACCGTACGGC'\n]\ndef extractSeqs(s, seqs, k):\n    \"\"\"\n    Extraire les motifs des séquences à l'aide de positions s\n    entrée s: vecteur contenant les positions de départs\n    entrée seqs: matrice de dimension txn avec les séquences\n    entrée k: taille du motif\n    sortie motifs: liste de motifs\n    \"\"\"\n    # motifs = [seqs[i][s[i]:s[i]+k] for i in range(len(seqs))]    \n    motifs = []\n    for i in range(len(seqs)):\n        try:\n            motifs.append(seqs[i][s[i]:s[i]+k])\n        except IndexError:\n            pass\n    return motifs\n\n\ndef  profile(motifs, k, nuc):\n    \"\"\"\n    Construire une PWM (position weight matrix)\n    entrée motifs: liste de motifs\n    entrée k: taille du motif\n    entrée nuc: alphabet\n    sortie PWM: position weight matrix\n    \"\"\"\n    nDict = {nuc[i]: i for i in range(len(nuc))}\n    q = len(nuc)\n    PWM = np.zeros((q, k))\n    for col in range(k):\n        for line in range(len(motifs)):\n            # try:\n            nucleotide = motifs[line][col]\n            # except IndexError:\n                # print(line, col, motifs)\n            PWM[nDict[nucleotide]][col] += 1\n    return PWM\n\n\ndef score(prof, k):\n    \"\"\"\n    Calcul le score d'un PWM, la somme de max de chaque colonne\n    entrée PWM: position weight matrix\n    entrée k: taille du motif\n    sortie score: la somme de max de chaque colonne\n    \"\"\"\n    sc = 0\n    for col in range(k):\n        sc += max(prof[:,col])\n    return int(sc)\n\nmotifs = extractSeqs(s, adn, k)\nprint(motifs)\nPWM = profile(motifs, k, nuc)\nprint(PWM)\n\nsc = score(PWM, k)\n#teste, sc doit etre egalle à 30\nprint (sc)",
      "metadata": {
        "id": "-T6aOpNxpn4L",
        "trusted": true
      },
      "execution_count": 3,
      "outputs": [
        {
          "name": "stdout",
          "text": "['AGGTACTT', 'CCATACGT', 'ACGTTAGT', 'ACGTCCAT', 'CCGTACGG']\n[[3. 0. 1. 0. 3. 1. 1. 0.]\n [2. 4. 0. 0. 1. 4. 0. 0.]\n [0. 1. 4. 0. 0. 0. 3. 1.]\n [0. 0. 0. 5. 1. 0. 1. 4.]]\n30\n",
          "output_type": "stream"
        }
      ]
    },
    {
      "cell_type": "markdown",
      "source": "4\\. Implementer l'algoritme _\"Brute Force Motif Search\"_ pour chercher des motifs de taille variable. Attention, la complexité de cet algorithme est trop importante, car il enumère toutes les positions intiales possibles, nous allons donc le tester seulement sur de petits jeux de données.",
      "metadata": {
        "id": "el72GsH1pn4N"
      }
    },
    {
      "cell_type": "code",
      "source": "from itertools import product\n\n#enumeration all initial positions\ndef initialPositions(k, n, t):\n    \"\"\"\n    Génère des vecteurs avec tous les positions de départ possible\n    entrée k: taille du motif\n    entrée n : longueur des séquences \n    entrée t : nombre de séquences \n    \"\"\"\n    listPos = list(range(n-k))\n    allIniPos = product(listPos, repeat=t)\n    return allIniPos\n\ndef bruteForceMotifSearch(sequences, t, n, k):\n    \"\"\"\n    Implémente l'algorithme bruteForceMotifSearch \n    entrée séquences: matrice de dimension txn avec les séquences \n    entrée t : nombre de séquences \n    entrée n : longueur des séquences \n    entrée k: taille du motif \n    sortie bestMotif: vecteur de positions de départ contenant le motif de meilleur score \n    sortie bestscore: score associé au meilleur motif\n    \"\"\"\n    bestscore = 0; bestMotif=''\n    allIniPos = initialPositions(k, n, t)\n    for s in allIniPos:\n        scTmp = score(profile(extractSeqs(s, sequences, k), k, nuc), k)\n        if scTmp > bestscore:\n            bestscore = scTmp\n            bestMotif = s\n            # print(s, scTmp, extractSeqs(s, sequences, k))\n    return bestMotif, bestscore\n\n#test\nk=4; v=1; t=3; n=10\nsequences = implantMotifVar(k, v, t, n)\nprint (sequences)\nbestMotif, bestscore = bruteForceMotifSearch(sequences, t, n, k)\nprint (bestMotif, bestscore)\nprint (extractSeqs(bestMotif, sequences, k))\n",
      "metadata": {
        "id": "QSkaofoopn4N",
        "trusted": true
      },
      "execution_count": 4,
      "outputs": [
        {
          "name": "stdout",
          "text": "['CGCTTCCTA', 'TCTTGATTA', 'GATGATTTG']\n(1, 4, 3) 11\n['GCTT', 'GATT', 'GATT']\n",
          "output_type": "stream"
        }
      ]
    },
    {
      "cell_type": "markdown",
      "source": "5\\. L'algorithme est-il performant sur ce jeu de données ? Sinon, pourquoi ?",
      "metadata": {
        "id": "b3vOwna_pn4O"
      }
    },
    {
      "cell_type": "markdown",
      "source": "<font color='blue'>\nreponse: Oui.\n</font>",
      "metadata": {
        "id": "-9yTcFHXpn4P"
      }
    },
    {
      "cell_type": "markdown",
      "source": "6\\. Tester l'agorithme avec les paramètres suivants `k=7`, `v=1`, `t=5`, et `n=20`. Avez vous de meilleurs performances ?",
      "metadata": {
        "id": "WHvbzhvupn4P"
      }
    },
    {
      "cell_type": "code",
      "source": "k=7; v=1; t=5; n=20\n\nsequences = implantMotifVar(k, v, t, n)\nprint (sequences)\nbestMotif, bestscore = bruteForceMotifSearch(sequences, t, n, k)\n\nprint (bestMotif)\nprint (extractSeqs(bestMotif, sequences, k))",
      "metadata": {
        "id": "2NOxfDYppn4P",
        "trusted": true
      },
      "execution_count": 5,
      "outputs": [
        {
          "name": "stdout",
          "text": "['CTCCGCGGGCATCCTTTCG', 'CTTCCGATATCCCTAAGAC', 'AGTAGTGGTATATCCATAC', 'TTCATATCCTGTGAATAGA', 'GGCAAGGTTATCCTAGCGC']\n(7, 5, 8, 2, 6)\n['GGCATCC', 'GATATCC', 'TATATCC', 'CATATCC', 'GTTATCC']\n",
          "output_type": "stream"
        }
      ]
    },
    {
      "cell_type": "markdown",
      "source": "7\\. Implémentez l'algorithme _\"Median String Search\"_ pour chercher des motifs de taille variable. Tester le sur les mêmes jeux de données que la question 3 (voir slides de cours). Vous devez éliminer les motifs peu complexe pour éviter les calculs inutiles.",
      "metadata": {
        "id": "LhfgfAkipn4Q"
      }
    },
    {
      "cell_type": "code",
      "source": "#Genere tous les K-mers de taille K ayant de AAA... à TTT...\nallkmers = product(nuc, repeat=k)\n\ndef kmerList(allKmers):\n    return [\"\".join(nucTuple) for nucTuple in allKmers]\n\nkmers = kmerList(allkmers)\n\n#Enlever les motifs peu complexe\n\nrepeatMax = 5\nsimpleRepeatMax = 4\n\ndef isRepeatN_2(seq, repeatMax):\n    repeatDict = {nu: 0 for nu in nuc}\n    for nu in seq:\n        repeatDict[nu] += 1\n        if repeatDict[nu] >= 5:\n            return True\n    return False\n\ndef isSimpleRepeat_(seq, simpleRepeatMax):\n    if len(seq) <= 3:\n        return False\n    a = seq[0]\n    b = seq[1]\n    repeat = \"\".join([a if i%2 == 0 else b for i in range(simpleRepeatMax)])\n    return seq.find(repeat) != -1\n\ndef isRepeatN(seq):\n    return isRepeatN_2(seq, repeatMax)\n    \ndef isSimpleRepeat(seq):\n    return isSimpleRepeat_(seq, simpleRepeatMax)\n\ndef removeLowComplexePair(kmers):\n    return [kmer for kmer in kmers if not isSimpleRepeat(kmer) and not isRepeatN(kmer)]\n\nkmersValid = removeLowComplexePair(kmers)\nprint (len(kmers))\nprint (len(kmersValid))\n# print(kmersValid)",
      "metadata": {
        "id": "oq0K6y6rpn4Q",
        "trusted": true
      },
      "execution_count": 6,
      "outputs": [
        {
          "name": "stdout",
          "text": "16384\n14640\n",
          "output_type": "stream"
        }
      ]
    },
    {
      "cell_type": "code",
      "source": "def hamdist(str1, str2):\n    \"\"\"\n    Calcul la distance de hamming entre deux chaînes de caractères\n    entrée str1: chaîne de caractères\n    entrée str2: chaîne de caractères\n    sortie distance: distance de hamming\n    \"\"\"\n    assert(len(str1) == len(str2))\n    return sum([1 if str1[i]!=str2[i] else 0 for i in range(len(str1))])\n\nassert(hamdist(\"acgcga\", \"acgcgg\") == 1)\n\ndef totalDistance(motif, sequences, k):\n    \"\"\"\n    Calcul la totalDistance\n    entrée motif: sequence consensus\n    entrée sequences: matrice de dimension txn contenant les séquences\n    entrée k: taille du motif \n    sortie td: somme de distance de hamming minimal\n    \"\"\"\n    assert(len(motif) == k)\n    tc = 0\n    for i in range(len(sequences)):\n        sequence = sequences[i]\n        lenSeq = len(sequence)\n        distList = [hamdist(motif, sequence[j: j+k]) for j in range(lenSeq-k+1)]\n        tc += min(distList)\n    return tc\nassert(totalDistance(\"acg\", [\"acga\", \"actt\"], 3) == 1)\n\n\n\ndef MedianStringSearch(allkmers, sequences, t, n, k):\n    \"\"\"\n    Implement l'algorithme MedianStringSearch\n    entrée allkmers: liste de K-mers valides\n    entrée sequences: matrice de dimension txn contenant les séquences\n    entrée n : longueur des séquences \n    entrée t : nombre de séquences \n    entrée k: taille du motif \n    sortie bestMotif: le motif que minimise les distances\n    sortie bestDistance: la distance minimal\n    sortie motifDist: un dictionnaire contenant les motifs et leurs distances\n    REMARK: n peut varié dans les fichiers de chip-seq, vous pouvez donc l'extraire de matrice sequence \n    \"\"\"\n    bestDistance = 1000\n    bestMotif = ''\n    motifDist = {}\n    for kmer in allkmers:\n        distTmp = totalDistance(kmer, sequences, k)\n        if distTmp < bestDistance:\n            bestMotif, bestDistance = kmer, distTmp\n        motifDist[kmer] = distTmp\n    return bestMotif, bestDistance, motifDist\n\nbestMotif, bestDistance, motifDist = MedianStringSearch(kmersValid, sequences, t, n, k)\n\n# print(bestMotif, bestDistance, motifDist)",
      "metadata": {
        "id": "e5biEcQGpn4R",
        "trusted": true
      },
      "execution_count": 7,
      "outputs": []
    },
    {
      "cell_type": "code",
      "source": "#Apliquez l'algoritme MedianStringSearch sur les sequences du brin complementaire\n\n#Faire un merge de motifs trouvés dans les deux brin\n\ndef sortDictMotifToList(motifDict : dict):\n    return sorted(motifDict.items(), key=lambda item:item[1], reverse=True)\n\ndef mergeMotifs(motifs, motifsRevComp):\n    ''' \n    Merge motifs trouvé dans les brins sens et complementaire\n    entrée motifs : un dictionnaire contenant les motifs du brin sens et leurs distances\n    entrée motifsRevComp : un dictionnaire contenant les motifs du brin complementaire et leurs distances\n    sortie allMotif: merge de motifs et motifsRevComp\n    '''\n    a = set(motifs.keys())\n    b = set(motifsRevComp.keys())\n    keyUnion = a.union(b)\n    dict3 = {motif: 0 for motif in keyUnion}\n    dict3 = {motif: (dict3[motif] + motifs[motif]) for motif in motifs.keys()}\n    dict3 = {motif: (dict3[motif] + motifsRevComp[motif]) for motif in motifsRevComp.keys()}\n    return dict3\n\n\n#Faire une fonction pour afficher les top meilleurs motifs (distance minimal)\n\ndef printTopFMotifsFreq(motifDist, top, rev=False):\n    \"\"\"\n    Afficher les top motifs avec les plus petit distances\n    entrée motifDist: un dictionnaire contenant les motifs et leurs distances\n    entrée top: max de motifs à afficher\n    sortie : None\n    \"\"\"\n    motifsRet = {}\n    res = sortDictMotifToList(motifDist)\n    if rev:\n        res = res[::-1]\n    print(res[:top])\n\ndef reversecompl(seq):\n    \"\"\"Renvoie le brin complémentaire d’une séquence.\n    entrée : sequence de nucléotides (brin sens)\n    sortie : sequence de nucléotides (brin complementaire)\n    >>> reversecompl('AACGTGGCA')\n    'TGCCACGTT'\n    \"\"\"\n    compl = {'A': 'T', 'C': 'G', 'G': 'C', 'T':'A'}\n    res = ''\n    for index in range(len(seq)):\n        res += compl[seq[index].upper()]\n    return res[::-1]\n\ndef reverseSequences(sequences):\n    \"\"\"\n    Trouver les reverses complémentaires pour une liste de sequnces\n    entrée sequences: une liste de sequnces\n    sortie : une liste de sequnces dont les éléments sont reverses complémentaires de celui d'entrée\n    \"\"\"\n    return [reversecompl(seq) for seq in sequences]\n\nprintTopFMotifsFreq(motifDist, 6, True)\nrevSequences = \"\" #sequences du brin complementaire \n\nrevSequences = reverseSequences(sequences)\n\n\nbestMotifRev, bestDistanceRev, motifDistRev = MedianStringSearch(kmersValid, revSequences, t, n, k)\nprint (bestMotifRev, bestDistanceRev)\n\nprintTopFMotifsFreq(motifDistRev, 6, True)\n\nallmotif = mergeMotifs(motifDist, motifDistRev)\nprint ('mergerd')\nprintTopFMotifsFreq(allmotif, 6, True)",
      "metadata": {
        "id": "8cV411yOpn4R",
        "trusted": true
      },
      "execution_count": 8,
      "outputs": [
        {
          "name": "stdout",
          "text": "[('TATCCTT', 5), ('GATATCC', 5), ('TTATCCT', 7), ('TATCCTG', 7), ('TATCCTA', 7), ('TATCCCT', 7)]\nAAGGATA 5\n[('GGATATC', 5), ('AGGATAT', 5), ('AAGGATA', 5), ('TGGATAT', 7), ('TAGGATA', 7), ('TAAGGAT', 7)]\nmergerd\n[('GGATATC', 12), ('GATATCC', 12), ('AGGATAT', 16), ('TGGATAT', 18), ('GGGATAT', 18), ('GGATATA', 18)]\n",
          "output_type": "stream"
        }
      ]
    },
    {
      "cell_type": "markdown",
      "source": "8\\. Comparation entre les algorithmes _\"Median String Search\"_ et \"_Brute Force Motif Search_\"",
      "metadata": {
        "id": "TME6qxDrpn4S"
      }
    },
    {
      "cell_type": "markdown",
      "source": "a\\. Produire des séquences artificielles avec les paramètres suivants  `k=7`, `v=1`, `t=5`, `n=20`. Comparer les performance et le temps de calculs des deux algorithmes.",
      "metadata": {
        "id": "KF9AfIrSpn4S"
      }
    },
    {
      "cell_type": "code",
      "source": "k=7; v=1; t=5; n=20\nmotifVar = implantMotifVar(k, v, t, n)\nprint(motifVar)",
      "metadata": {
        "id": "j1G1cBIvpn4S",
        "trusted": true
      },
      "execution_count": 9,
      "outputs": [
        {
          "name": "stdout",
          "text": "['GCATTAAGTTTCAACGGTT', 'CCAAGATACCGGTGGGGAC', 'CATTCACCCGTCGGGACCC', 'CACCCGTGTTGCATGGGAG', 'CACGCCGGTAACAGTTGTT']\n",
          "output_type": "stream"
        }
      ]
    },
    {
      "cell_type": "code",
      "source": "s, bestscore = bruteForceMotifSearch(motifVar, t, n, k)",
      "metadata": {
        "trusted": true
      },
      "execution_count": 10,
      "outputs": []
    },
    {
      "cell_type": "code",
      "source": "print(s, extractSeqs(s, motifVar, k), bestscore)",
      "metadata": {
        "trusted": true
      },
      "execution_count": 11,
      "outputs": [
        {
          "name": "stdout",
          "text": "(11, 6, 4, 0, 2) ['CAACGGT', 'TACCGGT', 'CACCCGT', 'CACCCGT', 'CGCCGGT'] 30\n",
          "output_type": "stream"
        }
      ]
    },
    {
      "cell_type": "code",
      "source": "allkmers = product(nuc, repeat=k)\nkmersValid = removeLowComplexePair(kmerList(allkmers))\nMedianStringSearch(kmersValid, motifVar, t, n, k)",
      "metadata": {
        "trusted": true
      },
      "execution_count": 12,
      "outputs": [
        {
          "execution_count": 12,
          "output_type": "execute_result",
          "data": {
            "text/plain": "('CACCGGT',\n 5,\n {'AAACACC': 16,\n  'AAACACG': 17,\n  'AAACACT': 15,\n  'AAACAGC': 15,\n  'AAACAGG': 15,\n  'AAACAGT': 12,\n  'AAACATC': 16,\n  'AAACATG': 17,\n  'AAACATT': 16,\n  'AAACCAC': 18,\n  'AAACCAG': 16,\n  'AAACCAT': 15,\n  'AAACCCA': 18,\n  'AAACCCC': 18,\n  'AAACCCG': 15,\n  'AAACCCT': 15,\n  'AAACCGA': 14,\n  'AAACCGC': 14,\n  'AAACCGG': 12,\n  'AAACCGT': 10,\n  'AAACCTA': 19,\n  'AAACCTC': 17,\n  'AAACCTG': 15,\n  'AAACCTT': 15,\n  'AAACGAC': 17,\n  'AAACGAG': 17,\n  'AAACGAT': 16,\n  'AAACGCA': 19,\n  'AAACGCC': 17,\n  'AAACGCG': 16,\n  'AAACGCT': 16,\n  'AAACGGA': 15,\n  'AAACGGC': 15,\n  'AAACGGG': 13,\n  'AAACGGT': 11,\n  'AAACGTA': 15,\n  'AAACGTC': 15,\n  'AAACGTG': 14,\n  'AAACGTT': 13,\n  'AAACTAC': 18,\n  'AAACTAG': 18,\n  'AAACTAT': 17,\n  'AAACTCA': 20,\n  'AAACTCC': 18,\n  'AAACTCG': 17,\n  'AAACTCT': 18,\n  'AAACTGA': 17,\n  'AAACTGC': 17,\n  'AAACTGG': 16,\n  'AAACTGT': 13,\n  'AAACTTA': 17,\n  'AAACTTC': 15,\n  'AAACTTG': 15,\n  'AAACTTT': 17,\n  'AAAGACC': 18,\n  'AAAGACG': 18,\n  'AAAGACT': 18,\n  'AAAGAGC': 18,\n  'AAAGAGG': 19,\n  'AAAGAGT': 16,\n  'AAAGATC': 17,\n  'AAAGATG': 16,\n  'AAAGATT': 17,\n  'AAAGCAC': 18,\n  'AAAGCAG': 17,\n  'AAAGCAT': 18,\n  'AAAGCCA': 18,\n  'AAAGCCC': 19,\n  'AAAGCCG': 16,\n  'AAAGCCT': 18,\n  'AAAGCGA': 18,\n  'AAAGCGC': 19,\n  'AAAGCGG': 16,\n  'AAAGCGT': 15,\n  'AAAGCTA': 17,\n  'AAAGCTC': 18,\n  'AAAGCTG': 16,\n  'AAAGCTT': 16,\n  'AAAGGAC': 16,\n  'AAAGGAG': 15,\n  'AAAGGAT': 15,\n  'AAAGGCA': 17,\n  'AAAGGCC': 18,\n  'AAAGGCG': 16,\n  'AAAGGCT': 18,\n  'AAAGGGA': 15,\n  'AAAGGGC': 18,\n  'AAAGGGG': 16,\n  'AAAGGGT': 15,\n  'AAAGGTA': 14,\n  'AAAGGTC': 15,\n  'AAAGGTG': 13,\n  'AAAGGTT': 14,\n  'AAAGTAC': 16,\n  'AAAGTAG': 15,\n  'AAAGTAT': 17,\n  'AAAGTCA': 17,\n  'AAAGTCC': 18,\n  'AAAGTCG': 16,\n  'AAAGTCT': 17,\n  'AAAGTGA': 16,\n  'AAAGTGC': 18,\n  'AAAGTGG': 16,\n  'AAAGTGT': 16,\n  'AAAGTTA': 15,\n  'AAAGTTC': 15,\n  'AAAGTTG': 13,\n  'AAAGTTT': 15,\n  'AAATACC': 16,\n  'AAATACG': 17,\n  'AAATACT': 18,\n  'AAATAGC': 16,\n  'AAATAGG': 16,\n  'AAATAGT': 16,\n  'AAATATC': 17,\n  'AAATATG': 18,\n  'AAATATT': 18,\n  'AAATCAC': 17,\n  'AAATCAG': 16,\n  'AAATCAT': 19,\n  'AAATCCA': 18,\n  'AAATCCC': 17,\n  'AAATCCG': 17,\n  'AAATCCT': 19,\n  'AAATCGA': 19,\n  'AAATCGC': 17,\n  'AAATCGG': 14,\n  'AAATCGT': 15,\n  'AAATCTA': 19,\n  'AAATCTC': 17,\n  'AAATCTG': 17,\n  'AAATCTT': 18,\n  'AAATGAC': 17,\n  'AAATGAG': 18,\n  'AAATGAT': 17,\n  'AAATGCA': 18,\n  'AAATGCC': 17,\n  'AAATGCG': 18,\n  'AAATGCT': 18,\n  'AAATGGA': 18,\n  'AAATGGC': 17,\n  'AAATGGG': 16,\n  'AAATGGT': 15,\n  'AAATGTA': 17,\n  'AAATGTC': 15,\n  'AAATGTG': 16,\n  'AAATGTT': 15,\n  'AAATTAC': 15,\n  'AAATTAG': 17,\n  'AAATTAT': 18,\n  'AAATTCA': 18,\n  'AAATTCC': 16,\n  'AAATTCG': 17,\n  'AAATTCT': 19,\n  'AAATTGA': 19,\n  'AAATTGC': 15,\n  'AAATTGG': 16,\n  'AAATTGT': 17,\n  'AAATTTA': 18,\n  'AAATTTC': 15,\n  'AAATTTG': 17,\n  'AAATTTT': 18,\n  'AACAACC': 17,\n  'AACAACG': 16,\n  'AACAACT': 17,\n  'AACAAGC': 17,\n  'AACAAGG': 17,\n  'AACAAGT': 13,\n  'AACAATC': 15,\n  'AACAATG': 15,\n  'AACAATT': 15,\n  'AACACAC': 16,\n  'AACACAG': 18,\n  'AACACAT': 14,\n  'AACACCA': 17,\n  'AACACCC': 16,\n  'AACACCG': 14,\n  'AACACCT': 14,\n  'AACACGA': 17,\n  'AACACGC': 16,\n  'AACACGG': 15,\n  'AACACGT': 12,\n  'AACACTA': 17,\n  'AACACTC': 15,\n  'AACACTG': 15,\n  'AACACTT': 13,\n  'AACAGAC': 14,\n  'AACAGAG': 15,\n  'AACAGAT': 14,\n  'AACAGCA': 17,\n  'AACAGCC': 15,\n  'AACAGCG': 15,\n  'AACAGCT': 14,\n  'AACAGGA': 14,\n  'AACAGGC': 15,\n  'AACAGGG': 15,\n  'AACAGGT': 11,\n  'AACAGTA': 12,\n  'AACAGTC': 11,\n  'AACAGTG': 10,\n  'AACAGTT': 10,\n  'AACATAC': 15,\n  'AACATAG': 16,\n  'AACATAT': 15,\n  'AACATCA': 17,\n  'AACATCC': 15,\n  'AACATCG': 15,\n  'AACATCT': 16,\n  'AACATGA': 17,\n  'AACATGC': 15,\n  'AACATGG': 16,\n  'AACATGT': 14,\n  'AACATTA': 16,\n  'AACATTC': 13,\n  'AACATTG': 15,\n  'AACATTT': 14,\n  'AACCAAC': 17,\n  'AACCAAG': 18,\n  'AACCAAT': 15,\n  'AACCACA': 19,\n  'AACCACC': 17,\n  'AACCACG': 16,\n  'AACCACT': 15,\n  'AACCAGA': 16,\n  'AACCAGC': 16,\n  'AACCAGG': 16,\n  'AACCAGT': 11,\n  'AACCATA': 15,\n  'AACCATC': 15,\n  'AACCATG': 14,\n  'AACCATT': 13,\n  'AACCCAA': 18,\n  'AACCCAC': 17,\n  'AACCCAG': 16,\n  'AACCCAT': 13,\n  'AACCCCA': 17,\n  'AACCCCG': 15,\n  'AACCCCT': 13,\n  'AACCCGA': 14,\n  'AACCCGC': 14,\n  'AACCCGG': 12,\n  'AACCCGT': 10,\n  'AACCCTA': 16,\n  'AACCCTC': 15,\n  'AACCCTG': 14,\n  'AACCCTT': 11,\n  'AACCGAA': 15,\n  'AACCGAC': 14,\n  'AACCGAG': 14,\n  'AACCGAT': 12,\n  'AACCGCA': 15,\n  'AACCGCC': 14,\n  'AACCGCG': 14,\n  'AACCGCT': 12,\n  'AACCGGA': 14,\n  'AACCGGC': 13,\n  'AACCGGG': 13,\n  'AACCGGT': 9,\n  'AACCGTA': 11,\n  'AACCGTC': 10,\n  'AACCGTG': 9,\n  'AACCGTT': 8,\n  'AACCTAA': 19,\n  'AACCTAC': 16,\n  'AACCTAG': 18,\n  'AACCTAT': 15,\n  'AACCTCA': 19,\n  'AACCTCC': 17,\n  'AACCTCG': 17,\n  'AACCTCT': 15,\n  'AACCTGA': 17,\n  'AACCTGC': 16,\n  'AACCTGG': 16,\n  'AACCTGT': 12,\n  'AACCTTA': 16,\n  'AACCTTC': 13,\n  'AACCTTG': 14,\n  'AACCTTT': 13,\n  'AACGAAC': 18,\n  'AACGAAG': 16,\n  'AACGAAT': 17,\n  'AACGACA': 17,\n  'AACGACC': 17,\n  'AACGACG': 15,\n  'AACGACT': 17,\n  'AACGAGA': 16,\n  'AACGAGC': 19,\n  'AACGAGG': 17,\n  'AACGAGT': 14,\n  'AACGATA': 15,\n  'AACGATC': 15,\n  'AACGATG': 14,\n  'AACGATT': 14,\n  'AACGCAA': 18,\n  'AACGCAC': 16,\n  'AACGCAG': 15,\n  'AACGCAT': 15,\n  'AACGCCA': 17,\n  'AACGCCC': 16,\n  'AACGCCG': 14,\n  'AACGCCT': 14,\n  'AACGCGA': 16,\n  'AACGCGC': 16,\n  'AACGCGG': 14,\n  'AACGCGT': 12,\n  'AACGCTA': 16,\n  'AACGCTC': 15,\n  'AACGCTG': 13,\n  'AACGCTT': 12,\n  'AACGGAA': 14,\n  'AACGGAC': 14,\n  'AACGGAG': 13,\n  'AACGGAT': 13,\n  'AACGGCA': 14,\n  'AACGGCC': 15,\n  'AACGGCG': 12,\n  'AACGGCT': 14,\n  'AACGGGA': 12,\n  'AACGGGC': 14,\n  'AACGGGG': 13,\n  'AACGGGT': 11,\n  'AACGGTA': 11,\n  'AACGGTC': 10,\n  'AACGGTG': 9,\n  'AACGGTT': 9,\n  'AACGTAA': 17,\n  'AACGTAC': 17,\n  'AACGTAG': 15,\n  'AACGTAT': 15,\n  'AACGTCA': 17,\n  'AACGTCC': 16,\n  'AACGTCG': 14,\n  'AACGTCT': 15,\n  'AACGTGA': 17,\n  'AACGTGC': 17,\n  'AACGTGG': 15,\n  'AACGTGT': 13,\n  'AACGTTA': 16,\n  'AACGTTC': 15,\n  'AACGTTG': 12,\n  'AACGTTT': 13,\n  'AACTAAC': 17,\n  'AACTAAG': 18,\n  'AACTAAT': 18,\n  'AACTACA': 18,\n  'AACTACC': 17,\n  'AACTACG': 17,\n  'AACTACT': 17,\n  'AACTAGA': 20,\n  'AACTAGC': 18,\n  'AACTAGG': 19,\n  'AACTAGT': 15,\n  'AACTATA': 17,\n  'AACTATC': 15,\n  'AACTATG': 16,\n  'AACTATT': 16,\n  'AACTCAA': 18,\n  'AACTCAC': 16,\n  'AACTCAG': 17,\n  'AACTCAT': 16,\n  'AACTCCA': 18,\n  'AACTCCC': 16,\n  'AACTCCG': 17,\n  'AACTCCT': 16,\n  'AACTCGA': 18,\n  'AACTCGC': 17,\n  'AACTCGG': 16,\n  'AACTCGT': 13,\n  'AACTCTA': 18,\n  'AACTCTC': 16,\n  'AACTCTG': 16,\n  'AACTCTT': 14,\n  'AACTGAA': 18,\n  'AACTGAC': 16,\n  'AACTGAG': 16,\n  'AACTGAT': 15,\n  'AACTGCA': 17,\n  'AACTGCC': 16,\n  'AACTGCG': 16,\n  'AACTGCT': 15,\n  'AACTGGA': 15,\n  'AACTGGC': 16,\n  'AACTGGG': 16,\n  'AACTGGT': 12,\n  'AACTGTA': 13,\n  'AACTGTC': 12,\n  'AACTGTG': 11,\n  'AACTGTT': 11,\n  'AACTTAA': 19,\n  'AACTTAC': 15,\n  'AACTTAG': 18,\n  'AACTTAT': 17,\n  'AACTTCA': 18,\n  'AACTTCC': 17,\n  'AACTTCG': 17,\n  'AACTTCT': 18,\n  'AACTTGA': 18,\n  'AACTTGC': 15,\n  'AACTTGG': 17,\n  'AACTTGT': 14,\n  'AACTTTA': 17,\n  'AACTTTC': 14,\n  'AACTTTG': 15,\n  'AACTTTT': 16,\n  'AAGAACC': 17,\n  'AAGAACG': 18,\n  'AAGAACT': 18,\n  'AAGAAGC': 17,\n  'AAGAAGG': 17,\n  'AAGAAGT': 16,\n  'AAGAATC': 15,\n  'AAGAATG': 17,\n  'AAGAATT': 17,\n  'AAGACAC': 15,\n  'AAGACAG': 16,\n  'AAGACAT': 17,\n  'AAGACCA': 19,\n  'AAGACCC': 16,\n  'AAGACCG': 16,\n  'AAGACCT': 17,\n  'AAGACGA': 18,\n  'AAGACGC': 15,\n  'AAGACGG': 15,\n  'AAGACGT': 15,\n  'AAGACTA': 18,\n  'AAGACTC': 15,\n  'AAGACTG': 17,\n  'AAGACTT': 16,\n  'AAGAGAC': 13,\n  'AAGAGAG': 15,\n  'AAGAGAT': 14,\n  'AAGAGCA': 18,\n  'AAGAGCC': 15,\n  'AAGAGCG': 17,\n  'AAGAGCT': 16,\n  'AAGAGGA': 17,\n  'AAGAGGC': 16,\n  'AAGAGGG': 17,\n  'AAGAGGT': 16,\n  'AAGAGTA': 16,\n  'AAGAGTC': 13,\n  'AAGAGTG': 15,\n  'AAGAGTT': 13,\n  'AAGATAC': 14,\n  'AAGATAG': 16,\n  'AAGATAT': 16,\n  'AAGATCA': 18,\n  'AAGATCC': 14,\n  'AAGATCG': 17,\n  'AAGATCT': 17,\n  'AAGATGA': 17,\n  'AAGATGC': 13,\n  'AAGATGG': 15,\n  'AAGATGT': 15,\n  'AAGATTA': 17,\n  'AAGATTC': 13,\n  'AAGATTG': 16,\n  'AAGATTT': 15,\n  'AAGCAAC': 15,\n  'AAGCAAG': 16,\n  'AAGCAAT': 18,\n  'AAGCACA': 19,\n  'AAGCACC': 16,\n  'AAGCACG': 17,\n  'AAGCACT': 18,\n  'AAGCAGA': 19,\n  'AAGCAGC': 16,\n  'AAGCAGG': 16,\n  'AAGCAGT': 14,\n  'AAGCATA': 17,\n  'AAGCATC': 15,\n  'AAGCATG': 16,\n  'AAGCATT': 17,\n  'AAGCCAA': 18,\n  'AAGCCAC': 15,\n  'AAGCCAG': 16,\n  'AAGCCAT': 16,\n  'AAGCCCA': 19,\n  'AAGCCCC': 16,\n  'AAGCCCG': 16,\n  'AAGCCCT': 17,\n  'AAGCCGA': 15,\n  'AAGCCGC': 14,\n  'AAGCCGG': 13,\n  'AAGCCGT': 12,\n  'AAGCCTA': 18,\n  'AAGCCTC': 15,\n  'AAGCCTG': 15,\n  'AAGCCTT': 16,\n  'AAGCGAA': 18,\n  'AAGCGAC': 15,\n  'AAGCGAG': 16,\n  'AAGCGAT': 16,\n  'AAGCGCA': 20,\n  'AAGCGCC': 17,\n  'AAGCGCG': 18,\n  'AAGCGCT': 17,\n  'AAGCGGA': 16,\n  'AAGCGGC': 16,\n  'AAGCGGG': 14,\n  'AAGCGGT': 13,\n  'AAGCGTA': 16,\n  'AAGCGTC': 13,\n  'AAGCGTG': 14,\n  'AAGCGTT': 13,\n  'AAGCTAA': 17,\n  'AAGCTAC': 15,\n  'AAGCTAG': 16,\n  'AAGCTAT': 16,\n  'AAGCTCA': 19,\n  'AAGCTCC': 15,\n  'AAGCTCG': 17,\n  'AAGCTCT': 17,\n  'AAGCTGA': 17,\n  'AAGCTGC': 14,\n  'AAGCTGG': 16,\n  'AAGCTGT': 14,\n  'AAGCTTA': 17,\n  'AAGCTTC': 14,\n  'AAGCTTG': 15,\n  'AAGCTTT': 16,\n  'AAGGAAC': 14,\n  'AAGGAAG': 16,\n  'AAGGAAT': 17,\n  'AAGGACA': 18,\n  'AAGGACC': 16,\n  'AAGGACG': 17,\n  'AAGGACT': 18,\n  'AAGGAGA': 18,\n  'AAGGAGC': 17,\n  'AAGGAGG': 17,\n  'AAGGAGT': 18,\n  'AAGGATA': 17,\n  'AAGGATC': 16,\n  'AAGGATG': 16,\n  'AAGGATT': 16,\n  'AAGGCAA': 17,\n  'AAGGCAC': 15,\n  'AAGGCAG': 16,\n  'AAGGCAT': 17,\n  'AAGGCCA': 19,\n  'AAGGCCC': 16,\n  'AAGGCCG': 16,\n  'AAGGCCT': 18,\n  'AAGGCGA': 17,\n  'AAGGCGC': 17,\n  'AAGGCGG': 15,\n  'AAGGCGT': 16,\n  'AAGGCTA': 19,\n  'AAGGCTC': 17,\n  'AAGGCTG': 16,\n  'AAGGCTT': 17,\n  'AAGGGAA': 14,\n  'AAGGGAC': 13,\n  'AAGGGAG': 14,\n  'AAGGGAT': 13,\n  'AAGGGCA': 17,\n  'AAGGGCC': 16,\n  'AAGGGCG': 15,\n  'AAGGGCT': 16,\n  'AAGGGGA': 14,\n  'AAGGGGC': 16,\n  'AAGGGGT': 15,\n  'AAGGGTA': 15,\n  'AAGGGTC': 14,\n  'AAGGGTG': 13,\n  'AAGGGTT': 13,\n  'AAGGTAA': 14,\n  'AAGGTAC': 12,\n  'AAGGTAG': 14,\n  'AAGGTAT': 15,\n  'AAGGTCA': 17,\n  'AAGGTCC': 15,\n  'AAGGTCG': 15,\n  'AAGGTCT': 17,\n  'AAGGTGA': 16,\n  'AAGGTGC': 14,\n  'AAGGTGG': 15,\n  'AAGGTGT': 15,\n  'AAGGTTA': 17,\n  'AAGGTTC': 14,\n  'AAGGTTG': 14,\n  'AAGGTTT': 17,\n  'AAGTAAC': 13,\n  'AAGTAAG': 15,\n  'AAGTAAT': 17,\n  'AAGTACA': 18,\n  'AAGTACC': 14,\n  'AAGTACG': 18,\n  'AAGTACT': 17,\n  'AAGTAGA': 18,\n  'AAGTAGC': 15,\n  'AAGTAGG': 16,\n  'AAGTAGT': 17,\n  'AAGTATA': 18,\n  'AAGTATC': 15,\n  'AAGTATG': 17,\n  'AAGTATT': 17,\n  'AAGTCAA': 17,\n  'AAGTCAC': 13,\n  'AAGTCAG': 15,\n  'AAGTCAT': 16,\n  'AAGTCCA': 19,\n  'AAGTCCC': 16,\n  'AAGTCCG': 16,\n  'AAGTCCT': 18,\n  'AAGTCGA': 17,\n  'AAGTCGC': 14,\n  'AAGTCGG': 14,\n  'AAGTCGT': 15,\n  'AAGTCTA': 18,\n  'AAGTCTC': 15,\n  'AAGTCTG': 16,\n  'AAGTCTT': 16,\n  'AAGTGAA': 17,\n  'AAGTGAC': 13,\n  'AAGTGAG': 16,\n  'AAGTGAT': 16,\n  'AAGTGCA': 19,\n  'AAGTGCC': 17,\n  'AAGTGCG': 17,\n  'AAGTGCT': 18,\n  'AAGTGGA': 16,\n  'AAGTGGC': 15,\n  'AAGTGGG': 14,\n  'AAGTGGT': 15,\n  'AAGTGTA': 16,\n  'AAGTGTC': 13,\n  'AAGTGTG': 15,\n  'AAGTGTT': 14,\n  'AAGTTAA': 15,\n  'AAGTTAC': 11,\n  'AAGTTAG': 14,\n  'AAGTTAT': 14,\n  'AAGTTCA': 17,\n  'AAGTTCC': 13,\n  'AAGTTCG': 16,\n  'AAGTTCT': 16,\n  'AAGTTGA': 14,\n  'AAGTTGC': 11,\n  'AAGTTGG': 13,\n  'AAGTTGT': 13,\n  'AAGTTTA': 16,\n  'AAGTTTC': 12,\n  'AAGTTTG': 15,\n  'AAGTTTT': 14,\n  'AATAACC': 16,\n  'AATAACG': 16,\n  'AATAACT': 16,\n  'AATAAGC': 16,\n  'AATAAGG': 17,\n  'AATAAGT': 16,\n  'AATAATC': 17,\n  'AATAATG': 17,\n  'AATAATT': 17,\n  'AATACAC': 16,\n  'AATACAG': 15,\n  'AATACAT': 15,\n  'AATACCA': 16,\n  'AATACCC': 18,\n  'AATACCG': 17,\n  'AATACCT': 16,\n  'AATACGA': 17,\n  'AATACGC': 17,\n  'AATACGG': 16,\n  'AATACGT': 14,\n  'AATACTA': 18,\n  'AATACTC': 17,\n  'AATACTG': 17,\n  'AATACTT': 16,\n  'AATAGAC': 16,\n  'AATAGAG': 16,\n  'AATAGAT': 16,\n  'AATAGCA': 16,\n  'AATAGCC': 17,\n  'AATAGCG': 17,\n  'AATAGCT': 16,\n  'AATAGGA': 16,\n  'AATAGGC': 16,\n  'AATAGGG': 15,\n  'AATAGGT': 14,\n  'AATAGTA': 16,\n  'AATAGTC': 15,\n  'AATAGTG': 15,\n  'AATAGTT': 15,\n  'AATATAC': 16,\n  'AATATAG': 17,\n  'AATATAT': 16,\n  'AATATCA': 16,\n  'AATATCC': 17,\n  'AATATCG': 17,\n  'AATATCT': 18,\n  'AATATGA': 18,\n  'AATATGC': 17,\n  'AATATGG': 17,\n  'AATATGT': 16,\n  'AATATTA': 18,\n  'AATATTC': 15,\n  'AATATTG': 17,\n  'AATATTT': 17,\n  'AATCAAC': 16,\n  'AATCAAG': 17,\n  'AATCAAT': 17,\n  'AATCACA': 16,\n  'AATCACC': 16,\n  'AATCACG': 16,\n  'AATCACT': 16,\n  'AATCAGA': 16,\n  'AATCAGC': 16,\n  'AATCAGG': 16,\n  'AATCAGT': 13,\n  'AATCATA': 18,\n  'AATCATC': 17,\n  'AATCATG': 17,\n  'AATCATT': 17,\n  'AATCCAA': 18,\n  'AATCCAC': 16,\n  'AATCCAG': 16,\n  'AATCCAT': 18,\n  'AATCCCA': 17,\n  'AATCCCC': 17,\n  'AATCCCG': 16,\n  'AATCCCT': 17,\n  'AATCCGA': 16,\n  'AATCCGC': 16,\n  'AATCCGG': 14,\n  'AATCCGT': 13,\n  'AATCCTA': 20,\n  'AATCCTC': 18,\n  'AATCCTG': 17,\n  'AATCCTT': 16,\n  'AATCGAA': 19,\n  'AATCGAC': 17,\n  'AATCGAG': 17,\n  'AATCGAT': 17,\n  'AATCGCA': 17,\n  'AATCGCC': 18,\n  'AATCGCG': 17,\n  'AATCGCT': 16,\n  'AATCGGA': 15,\n  'AATCGGC': 16,\n  'AATCGGG': 14,\n  'AATCGGT': 13,\n  'AATCGTA': 16,\n  'AATCGTC': 15,\n  'AATCGTG': 14,\n  'AATCGTT': 13,\n  'AATCTAA': 18,\n  'AATCTAC': 18,\n  'AATCTAG': 18,\n  'AATCTAT': 19,\n  'AATCTCA': 17,\n  'AATCTCC': 18,\n  'AATCTCG': 17,\n  'AATCTCT': 18,\n  'AATCTGA': 18,\n  'AATCTGC': 17,\n  'AATCTGG': 17,\n  'AATCTGT': 15,\n  'AATCTTA': 19,\n  'AATCTTC': 16,\n  'AATCTTG': 17,\n  'AATCTTT': 18,\n  'AATGAAC': 17,\n  'AATGAAG': 17,\n  'AATGAAT': 18,\n  'AATGACA': 15,\n  'AATGACC': 17,\n  'AATGACG': 16,\n  'AATGACT': 18,\n  'AATGAGA': 16,\n  'AATGAGC': 17,\n  'AATGAGG': 17,\n  'AATGAGT': 16,\n  'AATGATA': 16,\n  'AATGATC': 17,\n  'AATGATG': 16,\n  'AATGATT': 16,\n  'AATGCAA': 17,\n  'AATGCAC': 16,\n  'AATGCAG': 15,\n  'AATGCAT': 16,\n  'AATGCCA': 16,\n  'AATGCCC': 17,\n  'AATGCCG': 16,\n  'AATGCCT': 16,\n  'AATGCGA': 18,\n  'AATGCGC': 18,\n  'AATGCGG': 17,\n  'AATGCGT': 17,\n  'AATGCTA': 17,\n  'AATGCTC': 18,\n  'AATGCTG': 16,\n  'AATGCTT': 16,\n  'AATGGAA': 17,\n  'AATGGAC': 16,\n  'AATGGAG': 16,\n  'AATGGAT': 16,\n  'AATGGCA': 17,\n  'AATGGCC': 17,\n  'AATGGCG': 16,\n  'AATGGCT': 16,\n  'AATGGGA': 14,\n  'AATGGGC': 16,\n  'AATGGGG': 14,\n  'AATGGGT': 14,\n  'AATGGTA': 14,\n  'AATGGTC': 14,\n  'AATGGTG': 14,\n  'AATGGTT': 13,\n  'AATGTAA': 16,\n  'AATGTAC': 16,\n  'AATGTAG': 16,\n  'AATGTAT': 17,\n  'AATGTCA': 17,\n  'AATGTCC': 17,\n  'AATGTCG': 15,\n  'AATGTCT': 19,\n  'AATGTGA': 17,\n  'AATGTGC': 17,\n  'AATGTGG': 17,\n  'AATGTGT': 17,\n  'AATGTTA': 17,\n  'AATGTTC': 15,\n  'AATGTTG': 14,\n  'AATGTTT': 17,\n  'AATTAAC': 15,\n  'AATTAAG': 16,\n  'AATTAAT': 16,\n  'AATTACA': 14,\n  'AATTACC': 15,\n  'AATTACG': 16,\n  'AATTACT': 16,\n  'AATTAGA': 18,\n  'AATTAGC': 17,\n  'AATTAGG': 18,\n  'AATTAGT': 17,\n  'AATTATA': 17,\n  'AATTATC': 16,\n  'AATTATG': 17,\n  'AATTATT': 17,\n  'AATTCAA': 16,\n  'AATTCAC': 15,\n  'AATTCAG': 15,\n  'AATTCAT': 15,\n  'AATTCCA': 15,\n  'AATTCCC': 16,\n  'AATTCCG': 15,\n  'AATTCCT': 16,\n  'AATTCGA': 17,\n  'AATTCGC': 17,\n  'AATTCGG': 16,\n  'AATTCGT': 16,\n  'AATTCTA': 17,\n  'AATTCTC': 16,\n  'AATTCTG': 16,\n  'AATTCTT': 16,\n  'AATTGAA': 16,\n  'AATTGAC': 15,\n  'AATTGAG': 15,\n  'AATTGAT': 16,\n  'AATTGCA': 15,\n  'AATTGCC': 15,\n  'AATTGCG': 16,\n  'AATTGCT': 16,\n  'AATTGGA': 16,\n  'AATTGGC': 16,\n  'AATTGGG': 15,\n  'AATTGGT': 15,\n  'AATTGTA': 16,\n  'AATTGTC': 15,\n  'AATTGTG': 15,\n  'AATTGTT': 14,\n  'AATTTAA': 16,\n  'AATTTAC': 14,\n  'AATTTAG': 16,\n  'AATTTAT': 16,\n  'AATTTCA': 16,\n  'AATTTCC': 16,\n  'AATTTCG': 17,\n  'AATTTCT': 17,\n  'AATTTGA': 16,\n  'AATTTGC': 14,\n  'AATTTGG': 18,\n  'AATTTGT': 17,\n  'AATTTTA': 17,\n  'AATTTTC': 14,\n  'AATTTTG': 16,\n  'ACAAACC': 18,\n  'ACAAACG': 16,\n  'ACAAACT': 19,\n  'ACAAAGC': 18,\n  'ACAAAGG': 15,\n  'ACAAAGT': 17,\n  'ACAAATC': 17,\n  'ACAAATG': 15,\n  'ACAAATT': 17,\n  'ACAACAG': 14,\n  'ACAACAT': 16,\n  'ACAACCA': 19,\n  'ACAACCC': 18,\n  'ACAACCG': 14,\n  'ACAACCT': 18,\n  'ACAACGA': 16,\n  'ACAACGC': 16,\n  'ACAACGG': 11,\n  'ACAACGT': 16,\n  'ACAACTA': 18,\n  'ACAACTC': 17,\n  'ACAACTG': 13,\n  'ACAACTT': 17,\n  'ACAAGAC': 17,\n  'ACAAGAG': 15,\n  'ACAAGAT': 15,\n  'ACAAGCA': 19,\n  'ACAAGCC': 18,\n  'ACAAGCG': 15,\n  'ACAAGCT': 16,\n  'ACAAGGA': 17,\n  'ACAAGGC': 16,\n  'ACAAGGG': 14,\n  'ACAAGGT': 15,\n  'ACAAGTA': 15,\n  'ACAAGTC': 14,\n  'ACAAGTG': 12,\n  'ACAAGTT': 12,\n  'ACAATAC': 17,\n  'ACAATAG': 16,\n  'ACAATAT': 17,\n  'ACAATCA': 19,\n  'ACAATCC': 19,\n  'ACAATCG': 16,\n  'ACAATCT': 18,\n  'ACAATGA': 19,\n  'ACAATGC': 17,\n  'ACAATGG': 14,\n  'ACAATGT': 17,\n  'ACAATTA': 17,\n  'ACAATTC': 15,\n  'ACAATTG': 14,\n  'ACAATTT': 16,\n  'ACAGAAC': 17,\n  'ACAGAAG': 16,\n  'ACAGAAT': 18,\n  'ACAGACA': 19,\n  'ACAGACC': 18,\n  'ACAGACG': 16,\n  'ACAGACT': 18,\n  'ACAGAGA': 18,\n  'ACAGAGC': 18,\n  'ACAGAGG': 15,\n  'ACAGAGT': 18,\n  'ACAGATA': 16,\n  'ACAGATC': 16,\n  'ACAGATG': 14,\n  'ACAGATT': 16,\n  'ACAGCAA': 18,\n  'ACAGCAC': 18,\n  'ACAGCAG': 14,\n  'ACAGCAT': 17,\n  'ACAGCCA': 19,\n  'ACAGCCC': 18,\n  'ACAGCCG': 14,\n  'ACAGCCT': 18,\n  'ACAGCGA': 17,\n  'ACAGCGC': 17,\n  'ACAGCGG': 12,\n  'ACAGCGT': 16,\n  'ACAGCTA': 17,\n  'ACAGCTC': 16,\n  'ACAGCTG': 12,\n  'ACAGCTT': 16,\n  'ACAGGAA': 15,\n  'ACAGGAC': 15,\n  'ACAGGAG': 13,\n  'ACAGGAT': 14,\n  'ACAGGCA': 18,\n  'ACAGGCC': 17,\n  'ACAGGCG': 14,\n  'ACAGGCT': 17,\n  'ACAGGGA': 16,\n  'ACAGGGC': 16,\n  'ACAGGGG': 13,\n  'ACAGGGT': 16,\n  'ACAGGTA': 13,\n  'ACAGGTC': 12,\n  'ACAGGTG': 10,\n  'ACAGGTT': 12,\n  'ACAGTAA': 16,\n  'ACAGTAC': 15,\n  'ACAGTAG': 13,\n  'ACAGTAT': 15,\n  'ACAGTCA': 16,\n  'ACAGTCC': 16,\n  'ACAGTCG': 14,\n  'ACAGTCT': 15,\n  'ACAGTGA': 15,\n  'ACAGTGC': 16,\n  'ACAGTGG': 12,\n  'ACAGTGT': 14,\n  ...})"
          },
          "metadata": {}
        }
      ]
    },
    {
      "cell_type": "markdown",
      "source": "b\\. Quel algorithme peut etre appliqué au probleme de recherche de motifs? Et comment?",
      "metadata": {
        "id": "B9bTKc1epn4T"
      }
    },
    {
      "cell_type": "code",
      "source": "n = 100\n# n = 100\nt = 100\n\ndef readFasta(fastaFile, n):\n    \"\"\"\n    Lire n sequences d'un ficher fasta\n    entrée fastaFile: nom du fichier\n    entrée n: nombre de sequences à retourner\n    sortie sequence: liste de sequences\n    \"\"\"\n    sequence = []\n    file = open(fastaFile, \"r\")\n    sequence = []\n    for s in file:\n        if s[0] != \">\":\n            sequence.append(s.strip().upper())\n    sequenceStr = \"\".join(sequence)\n    sequence = [sequenceStr[i:i+n] for i in range(0, len(sequenceStr), n)]\n    return sequence\n\npeaksFile = \"Sequence_by_Peaks_2.fasta\" #votre fichier de Peaks\nsequences   = readFasta(peaksFile, t)\n",
      "metadata": {
        "id": "YFjUZhjgpn4T",
        "trusted": true
      },
      "execution_count": 13,
      "outputs": [
        {
          "ename": "<class 'FileNotFoundError'>",
          "evalue": "[Errno 44] No such file or directory: 'Sequence_by_Peaks_2.fasta'",
          "traceback": [
            "\u001b[0;31m---------------------------------------------------------------------------\u001b[0m",
            "\u001b[0;31mFileNotFoundError\u001b[0m                         Traceback (most recent call last)",
            "Input \u001b[0;32mIn [13]\u001b[0m, in \u001b[0;36m<cell line: 23>\u001b[0;34m()\u001b[0m\n\u001b[1;32m     20\u001b[0m     \u001b[38;5;28;01mreturn\u001b[39;00m sequence\n\u001b[1;32m     22\u001b[0m peaksFile \u001b[38;5;241m=\u001b[39m \u001b[38;5;124m\"\u001b[39m\u001b[38;5;124mSequence_by_Peaks_2.fasta\u001b[39m\u001b[38;5;124m\"\u001b[39m \u001b[38;5;66;03m#votre fichier de Peaks\u001b[39;00m\n\u001b[0;32m---> 23\u001b[0m sequences   \u001b[38;5;241m=\u001b[39m \u001b[43mreadFasta\u001b[49m\u001b[43m(\u001b[49m\u001b[43mpeaksFile\u001b[49m\u001b[43m,\u001b[49m\u001b[43m \u001b[49m\u001b[43mt\u001b[49m\u001b[43m)\u001b[49m\n",
            "Input \u001b[0;32mIn [13]\u001b[0m, in \u001b[0;36mreadFasta\u001b[0;34m(fastaFile, n)\u001b[0m\n\u001b[1;32m      6\u001b[0m \u001b[38;5;124;03m\"\"\"\u001b[39;00m\n\u001b[1;32m      7\u001b[0m \u001b[38;5;124;03mLire n sequences d'un ficher fasta\u001b[39;00m\n\u001b[1;32m      8\u001b[0m \u001b[38;5;124;03mentrée fastaFile: nom du fichier\u001b[39;00m\n\u001b[1;32m      9\u001b[0m \u001b[38;5;124;03mentrée n: nombre de sequences à retourner\u001b[39;00m\n\u001b[1;32m     10\u001b[0m \u001b[38;5;124;03msortie sequence: liste de sequences\u001b[39;00m\n\u001b[1;32m     11\u001b[0m \u001b[38;5;124;03m\"\"\"\u001b[39;00m\n\u001b[1;32m     12\u001b[0m sequence \u001b[38;5;241m=\u001b[39m []\n\u001b[0;32m---> 13\u001b[0m file \u001b[38;5;241m=\u001b[39m \u001b[38;5;28;43mopen\u001b[39;49m\u001b[43m(\u001b[49m\u001b[43mfastaFile\u001b[49m\u001b[43m,\u001b[49m\u001b[43m \u001b[49m\u001b[38;5;124;43m\"\u001b[39;49m\u001b[38;5;124;43mr\u001b[39;49m\u001b[38;5;124;43m\"\u001b[39;49m\u001b[43m)\u001b[49m\n\u001b[1;32m     14\u001b[0m sequence \u001b[38;5;241m=\u001b[39m []\n\u001b[1;32m     15\u001b[0m \u001b[38;5;28;01mfor\u001b[39;00m s \u001b[38;5;129;01min\u001b[39;00m file:\n",
            "\u001b[0;31mFileNotFoundError\u001b[0m: [Errno 44] No such file or directory: 'Sequence_by_Peaks_2.fasta'"
          ],
          "output_type": "error"
        }
      ]
    },
    {
      "cell_type": "code",
      "source": "bestMotif, bestscore = bruteForceMotifSearch(sequences, t, len(sequences[0]), k)\nprint(bestMotif, bestscore)\nprint(extractSeqs(bestMotif, sequences, k))",
      "metadata": {
        "trusted": true
      },
      "execution_count": null,
      "outputs": []
    },
    {
      "cell_type": "code",
      "source": "allkmers = product(nuc, repeat=k)\nkmersValid = removeLowComplexePair(kmerList(allkmers))\nresMS = MedianStringSearch(kmersValid, sequences, t, len(sequences[0]), k)\nprint(resMS[0:2])",
      "metadata": {
        "trusted": true
      },
      "execution_count": null,
      "outputs": []
    },
    {
      "cell_type": "code",
      "source": "",
      "metadata": {},
      "execution_count": null,
      "outputs": []
    }
  ]
}